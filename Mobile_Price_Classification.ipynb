{
  "cells": [
    {
      "cell_type": "markdown",
      "metadata": {
        "id": "view-in-github",
        "colab_type": "text"
      },
      "source": [
        "<a href=\"https://colab.research.google.com/github/manish-4007/Mobile-PriceRange-Classification/blob/main/Mobile_Price_Classification.ipynb\" target=\"_parent\"><img src=\"https://colab.research.google.com/assets/colab-badge.svg\" alt=\"Open In Colab\"/></a>"
      ]
    },
    {
      "cell_type": "code",
      "execution_count": 1,
      "metadata": {
        "id": "0VTBMOQLndXF"
      },
      "outputs": [],
      "source": [
        "# !pip install seaborn"
      ]
    },
    {
      "cell_type": "code",
      "execution_count": 2,
      "metadata": {
        "id": "xPcGVwjBjffU"
      },
      "outputs": [],
      "source": [
        "import pandas as pd\n",
        "import numpy as np\n",
        "import matplotlib.pyplot as plt\n",
        "import seaborn as sns"
      ]
    },
    {
      "cell_type": "code",
      "execution_count": 4,
      "metadata": {
        "id": "s9EGp76Xn3kl"
      },
      "outputs": [],
      "source": [
        "df = pd.read_csv('/content/drive/MyDrive/project/Mobile Prices/train.csv')\n"
      ]
    },
    {
      "cell_type": "code",
      "execution_count": 5,
      "metadata": {
        "colab": {
          "base_uri": "https://localhost:8080/"
        },
        "id": "IsLCkngllVci",
        "outputId": "bca8ac1c-d3d1-4f0c-e570-e04fc9edc6a7"
      },
      "outputs": [
        {
          "output_type": "stream",
          "name": "stdout",
          "text": [
            "<class 'pandas.core.frame.DataFrame'>\n",
            "RangeIndex: 1000 entries, 0 to 999\n",
            "Data columns (total 21 columns):\n",
            " #   Column         Non-Null Count  Dtype  \n",
            "---  ------         --------------  -----  \n",
            " 0   id             1000 non-null   int64  \n",
            " 1   battery_power  1000 non-null   int64  \n",
            " 2   blue           1000 non-null   int64  \n",
            " 3   clock_speed    1000 non-null   float64\n",
            " 4   dual_sim       1000 non-null   int64  \n",
            " 5   fc             1000 non-null   int64  \n",
            " 6   four_g         1000 non-null   int64  \n",
            " 7   int_memory     1000 non-null   int64  \n",
            " 8   m_dep          1000 non-null   float64\n",
            " 9   mobile_wt      1000 non-null   int64  \n",
            " 10  n_cores        1000 non-null   int64  \n",
            " 11  pc             1000 non-null   int64  \n",
            " 12  px_height      1000 non-null   int64  \n",
            " 13  px_width       1000 non-null   int64  \n",
            " 14  ram            1000 non-null   int64  \n",
            " 15  sc_h           1000 non-null   int64  \n",
            " 16  sc_w           1000 non-null   int64  \n",
            " 17  talk_time      1000 non-null   int64  \n",
            " 18  three_g        1000 non-null   int64  \n",
            " 19  touch_screen   1000 non-null   int64  \n",
            " 20  wifi           1000 non-null   int64  \n",
            "dtypes: float64(2), int64(19)\n",
            "memory usage: 164.2 KB\n"
          ]
        }
      ],
      "source": [
        "test_df = pd.read_csv('/content/drive/MyDrive/project/Mobile Prices/test.csv')\n",
        "test_df.info()"
      ]
    },
    {
      "cell_type": "code",
      "execution_count": 6,
      "metadata": {
        "colab": {
          "base_uri": "https://localhost:8080/"
        },
        "id": "ya20AGF0llYF",
        "outputId": "a43e4411-5b92-41b1-a598-b8388468a753"
      },
      "outputs": [
        {
          "output_type": "stream",
          "name": "stdout",
          "text": [
            "<class 'pandas.core.frame.DataFrame'>\n",
            "RangeIndex: 2000 entries, 0 to 1999\n",
            "Data columns (total 21 columns):\n",
            " #   Column         Non-Null Count  Dtype  \n",
            "---  ------         --------------  -----  \n",
            " 0   battery_power  2000 non-null   int64  \n",
            " 1   blue           2000 non-null   int64  \n",
            " 2   clock_speed    2000 non-null   float64\n",
            " 3   dual_sim       2000 non-null   int64  \n",
            " 4   fc             2000 non-null   int64  \n",
            " 5   four_g         2000 non-null   int64  \n",
            " 6   int_memory     2000 non-null   int64  \n",
            " 7   m_dep          2000 non-null   float64\n",
            " 8   mobile_wt      2000 non-null   int64  \n",
            " 9   n_cores        2000 non-null   int64  \n",
            " 10  pc             2000 non-null   int64  \n",
            " 11  px_height      2000 non-null   int64  \n",
            " 12  px_width       2000 non-null   int64  \n",
            " 13  ram            2000 non-null   int64  \n",
            " 14  sc_h           2000 non-null   int64  \n",
            " 15  sc_w           2000 non-null   int64  \n",
            " 16  talk_time      2000 non-null   int64  \n",
            " 17  three_g        2000 non-null   int64  \n",
            " 18  touch_screen   2000 non-null   int64  \n",
            " 19  wifi           2000 non-null   int64  \n",
            " 20  price_range    2000 non-null   int64  \n",
            "dtypes: float64(2), int64(19)\n",
            "memory usage: 328.2 KB\n"
          ]
        }
      ],
      "source": [
        "df.info()"
      ]
    },
    {
      "cell_type": "code",
      "execution_count": 7,
      "metadata": {
        "colab": {
          "base_uri": "https://localhost:8080/",
          "height": 467
        },
        "id": "kOxo8Hckl1U9",
        "outputId": "3dc29e04-3c14-4020-be74-003993bcfef2"
      },
      "outputs": [
        {
          "output_type": "execute_result",
          "data": {
            "text/plain": [
              "<Axes: xlabel='price_range', ylabel='count'>"
            ]
          },
          "metadata": {},
          "execution_count": 7
        },
        {
          "output_type": "display_data",
          "data": {
            "text/plain": [
              "<Figure size 640x480 with 1 Axes>"
            ],
            "image/png": "[encoded data removed]"
          },
          "metadata": {}
        }
      ],
      "source": [
        "sns.countplot(x=df['price_range'])"
      ]
    },
    {
      "cell_type": "code",
      "execution_count": 8,
      "metadata": {
        "id": "Mx4dH3tEmA4V"
      },
      "outputs": [],
      "source": [
        "# sns.pairplot(df, hue='price_range', palette='coolwarm')"
      ]
    },
    {
      "cell_type": "code",
      "execution_count": 9,
      "metadata": {
        "colab": {
          "base_uri": "https://localhost:8080/",
          "height": 539
        },
        "id": "wjAS2l0Umm3X",
        "outputId": "9062812e-c0a9-4851-93f7-133369cc676a"
      },
      "outputs": [
        {
          "output_type": "execute_result",
          "data": {
            "text/plain": [
              "<Axes: >"
            ]
          },
          "metadata": {},
          "execution_count": 9
        },
        {
          "output_type": "display_data",
          "data": {
            "text/plain": [
              "<Figure size 640x480 with 2 Axes>"
            ],
            "image/png": "[encoded data removed]"
          },
          "metadata": {}
        }
      ],
      "source": [
        "sns.heatmap(df.corr())"
      ]
    },
    {
      "cell_type": "code",
      "execution_count": 9,
      "metadata": {
        "id": "r2N8V-Frtjsu"
      },
      "outputs": [],
      "source": []
    },
    {
      "cell_type": "code",
      "execution_count": 10,
      "metadata": {
        "id": "vNJsWev52Anw"
      },
      "outputs": [],
      "source": [
        "X = df.iloc[:,:-1].values\n",
        "y = pd.get_dummies(df.iloc[:,-1]).values"
      ]
    },
    {
      "cell_type": "code",
      "execution_count": 10,
      "metadata": {
        "id": "o4SH-QJ943wx"
      },
      "outputs": [],
      "source": []
    },
    {
      "cell_type": "code",
      "execution_count": 11,
      "metadata": {
        "id": "xk6-DHxIvSyL"
      },
      "outputs": [],
      "source": [
        "from sklearn.preprocessing import StandardScaler\n",
        "SC = StandardScaler()\n",
        "X = SC.fit_transform(X)\n"
      ]
    },
    {
      "cell_type": "code",
      "execution_count": 12,
      "metadata": {
        "colab": {
          "base_uri": "https://localhost:8080/"
        },
        "id": "XlLXi19FvxQn",
        "outputId": "8525cf7b-d7a4-46a7-c834-93f0b984e4fd"
      },
      "outputs": [
        {
          "output_type": "execute_result",
          "data": {
            "text/plain": [
              "array([[-0.90259726, -0.9900495 ,  0.83077942, ..., -1.78686097,\n",
              "        -1.00601811,  0.98609664],\n",
              "       [-0.49513857,  1.0100505 , -1.2530642 , ...,  0.55964063,\n",
              "         0.99401789, -1.01409939],\n",
              "       [-1.5376865 ,  1.0100505 , -1.2530642 , ...,  0.55964063,\n",
              "         0.99401789, -1.01409939],\n",
              "       ...,\n",
              "       [ 1.53077336, -0.9900495 , -0.76274805, ...,  0.55964063,\n",
              "         0.99401789, -1.01409939],\n",
              "       [ 0.62252745, -0.9900495 , -0.76274805, ...,  0.55964063,\n",
              "         0.99401789,  0.98609664],\n",
              "       [-1.65833069,  1.0100505 ,  0.58562134, ...,  0.55964063,\n",
              "         0.99401789,  0.98609664]])"
            ]
          },
          "metadata": {},
          "execution_count": 12
        }
      ],
      "source": [
        "X"
      ]
    },
    {
      "cell_type": "code",
      "execution_count": 13,
      "metadata": {
        "id": "cymUMVSKvxnC"
      },
      "outputs": [],
      "source": [
        "from sklearn.model_selection import train_test_split\n",
        "X_train, X_test, y_train, y_test = train_test_split( X, y, test_size=0.25, random_state=42)"
      ]
    },
    {
      "cell_type": "code",
      "execution_count": 14,
      "metadata": {
        "id": "RNTC2-qNv3Va"
      },
      "outputs": [],
      "source": [
        "from tensorflow import keras\n",
        "from keras import Sequential,layers\n",
        "from keras.layers import Dense "
      ]
    },
    {
      "cell_type": "code",
      "execution_count": null,
      "metadata": {
        "id": "hUrBzkX9v4ed"
      },
      "outputs": [],
      "source": [
        "!pip install keras-tuner --upgrade"
      ]
    },
    {
      "cell_type": "code",
      "execution_count": 16,
      "metadata": {
        "colab": {
          "base_uri": "https://localhost:8080/"
        },
        "id": "YIzlQn7Fv4bc",
        "outputId": "8e79a78f-cdf1-4346-86c3-70d193ef01da"
      },
      "outputs": [
        {
          "output_type": "stream",
          "name": "stderr",
          "text": [
            "<ipython-input-16-1aa075400f3b>:1: DeprecationWarning: `import kerastuner` is deprecated, please use `import keras_tuner`.\n",
            "  import kerastuner\n"
          ]
        }
      ],
      "source": [
        "import kerastuner\n",
        "from kerastuner.tuners import RandomSearch"
      ]
    },
    {
      "cell_type": "code",
      "execution_count": 17,
      "metadata": {
        "colab": {
          "base_uri": "https://localhost:8080/"
        },
        "id": "T3vJt7Hzv4ZK",
        "outputId": "07220e48-51f6-472c-8342-3662869503cd"
      },
      "outputs": [
        {
          "output_type": "stream",
          "name": "stdout",
          "text": [
            "Epoch 1/100\n",
            "38/38 [==============================] - 8s 6ms/step - loss: 1.3756 - accuracy: 0.2907\n",
            "Epoch 2/100\n",
            "38/38 [==============================] - 0s 5ms/step - loss: 1.2278 - accuracy: 0.4347\n",
            "Epoch 3/100\n",
            "38/38 [==============================] - 0s 6ms/step - loss: 0.9182 - accuracy: 0.6080\n",
            "Epoch 4/100\n",
            "38/38 [==============================] - 0s 8ms/step - loss: 0.6002 - accuracy: 0.7640\n",
            "Epoch 5/100\n",
            "38/38 [==============================] - 0s 7ms/step - loss: 0.4109 - accuracy: 0.8527\n",
            "Epoch 6/100\n",
            "38/38 [==============================] - 0s 6ms/step - loss: 0.3009 - accuracy: 0.8867\n",
            "Epoch 7/100\n",
            "38/38 [==============================] - 0s 7ms/step - loss: 0.2468 - accuracy: 0.9027\n",
            "Epoch 8/100\n",
            "38/38 [==============================] - 0s 7ms/step - loss: 0.2028 - accuracy: 0.9233\n",
            "Epoch 9/100\n",
            "38/38 [==============================] - 0s 6ms/step - loss: 0.1710 - accuracy: 0.9393\n",
            "Epoch 10/100\n",
            "38/38 [==============================] - 0s 7ms/step - loss: 0.1482 - accuracy: 0.9413\n",
            "Epoch 11/100\n",
            "38/38 [==============================] - 0s 6ms/step - loss: 0.1265 - accuracy: 0.9547\n",
            "Epoch 12/100\n",
            "38/38 [==============================] - 0s 6ms/step - loss: 0.1182 - accuracy: 0.9593\n",
            "Epoch 13/100\n",
            "38/38 [==============================] - 0s 6ms/step - loss: 0.1019 - accuracy: 0.9667\n",
            "Epoch 14/100\n",
            "38/38 [==============================] - 0s 7ms/step - loss: 0.0912 - accuracy: 0.9707\n",
            "Epoch 15/100\n",
            "38/38 [==============================] - 0s 7ms/step - loss: 0.0798 - accuracy: 0.9807\n",
            "Epoch 16/100\n",
            "38/38 [==============================] - 0s 6ms/step - loss: 0.0708 - accuracy: 0.9807\n",
            "Epoch 17/100\n",
            "38/38 [==============================] - 0s 5ms/step - loss: 0.0648 - accuracy: 0.9787\n",
            "Epoch 18/100\n",
            "38/38 [==============================] - 0s 5ms/step - loss: 0.0623 - accuracy: 0.9813\n",
            "Epoch 19/100\n",
            "38/38 [==============================] - 0s 5ms/step - loss: 0.0535 - accuracy: 0.9873\n",
            "Epoch 20/100\n",
            "38/38 [==============================] - 0s 6ms/step - loss: 0.0497 - accuracy: 0.9873\n",
            "Epoch 21/100\n",
            "38/38 [==============================] - 0s 6ms/step - loss: 0.0527 - accuracy: 0.9853\n",
            "Epoch 22/100\n",
            "38/38 [==============================] - 0s 7ms/step - loss: 0.0421 - accuracy: 0.9907\n",
            "Epoch 23/100\n",
            "38/38 [==============================] - 0s 7ms/step - loss: 0.0355 - accuracy: 0.9913\n",
            "Epoch 24/100\n",
            "38/38 [==============================] - 0s 12ms/step - loss: 0.0288 - accuracy: 0.9947\n",
            "Epoch 25/100\n",
            "38/38 [==============================] - 0s 10ms/step - loss: 0.0243 - accuracy: 0.9960\n",
            "Epoch 26/100\n",
            "38/38 [==============================] - 0s 9ms/step - loss: 0.0230 - accuracy: 0.9980\n",
            "Epoch 27/100\n",
            "38/38 [==============================] - 0s 9ms/step - loss: 0.0218 - accuracy: 0.9960\n",
            "Epoch 28/100\n",
            "38/38 [==============================] - 0s 10ms/step - loss: 0.0187 - accuracy: 0.9980\n",
            "Epoch 29/100\n",
            "38/38 [==============================] - 0s 13ms/step - loss: 0.0181 - accuracy: 0.9967\n",
            "Epoch 30/100\n",
            "38/38 [==============================] - 1s 16ms/step - loss: 0.0172 - accuracy: 0.9987\n",
            "Epoch 31/100\n",
            "38/38 [==============================] - 0s 11ms/step - loss: 0.0170 - accuracy: 0.9973\n",
            "Epoch 32/100\n",
            "38/38 [==============================] - 0s 7ms/step - loss: 0.0198 - accuracy: 0.9953\n",
            "Epoch 33/100\n",
            "38/38 [==============================] - 0s 8ms/step - loss: 0.0127 - accuracy: 0.9987\n",
            "Epoch 34/100\n",
            "38/38 [==============================] - 0s 8ms/step - loss: 0.0115 - accuracy: 0.9993\n",
            "Epoch 35/100\n",
            "38/38 [==============================] - 0s 8ms/step - loss: 0.0095 - accuracy: 0.9993\n",
            "Epoch 36/100\n",
            "38/38 [==============================] - 0s 6ms/step - loss: 0.0085 - accuracy: 0.9993\n",
            "Epoch 37/100\n",
            "38/38 [==============================] - 0s 6ms/step - loss: 0.0075 - accuracy: 0.9993\n",
            "Epoch 38/100\n",
            "38/38 [==============================] - 0s 6ms/step - loss: 0.0064 - accuracy: 1.0000\n",
            "Epoch 39/100\n",
            "38/38 [==============================] - 0s 6ms/step - loss: 0.0054 - accuracy: 1.0000\n",
            "Epoch 40/100\n",
            "38/38 [==============================] - 0s 6ms/step - loss: 0.0050 - accuracy: 1.0000\n",
            "Epoch 41/100\n",
            "38/38 [==============================] - 0s 6ms/step - loss: 0.0049 - accuracy: 1.0000\n",
            "Epoch 42/100\n",
            "38/38 [==============================] - 0s 7ms/step - loss: 0.0047 - accuracy: 1.0000\n",
            "Epoch 43/100\n",
            "38/38 [==============================] - 0s 8ms/step - loss: 0.0041 - accuracy: 1.0000\n",
            "Epoch 44/100\n",
            "38/38 [==============================] - 0s 7ms/step - loss: 0.0034 - accuracy: 1.0000\n",
            "Epoch 45/100\n",
            "38/38 [==============================] - 0s 6ms/step - loss: 0.0034 - accuracy: 1.0000\n",
            "Epoch 46/100\n",
            "38/38 [==============================] - 0s 6ms/step - loss: 0.0030 - accuracy: 1.0000\n",
            "Epoch 47/100\n",
            "38/38 [==============================] - 0s 6ms/step - loss: 0.0028 - accuracy: 1.0000\n",
            "Epoch 48/100\n",
            "38/38 [==============================] - 0s 5ms/step - loss: 0.0027 - accuracy: 1.0000\n",
            "Epoch 49/100\n",
            "38/38 [==============================] - 0s 6ms/step - loss: 0.0024 - accuracy: 1.0000\n",
            "Epoch 50/100\n",
            "38/38 [==============================] - 0s 7ms/step - loss: 0.0023 - accuracy: 1.0000\n",
            "Epoch 51/100\n",
            "38/38 [==============================] - 0s 8ms/step - loss: 0.0022 - accuracy: 1.0000\n",
            "Epoch 52/100\n",
            "38/38 [==============================] - 0s 8ms/step - loss: 0.0022 - accuracy: 1.0000\n",
            "Epoch 53/100\n",
            "38/38 [==============================] - 0s 7ms/step - loss: 0.0021 - accuracy: 1.0000\n",
            "Epoch 54/100\n",
            "38/38 [==============================] - 0s 7ms/step - loss: 0.0017 - accuracy: 1.0000\n",
            "Epoch 55/100\n",
            "38/38 [==============================] - 0s 7ms/step - loss: 0.0017 - accuracy: 1.0000\n",
            "Epoch 56/100\n",
            "38/38 [==============================] - 0s 7ms/step - loss: 0.0015 - accuracy: 1.0000\n",
            "Epoch 57/100\n",
            "38/38 [==============================] - 0s 6ms/step - loss: 0.0014 - accuracy: 1.0000\n",
            "Epoch 58/100\n",
            "38/38 [==============================] - 0s 10ms/step - loss: 0.0014 - accuracy: 1.0000\n",
            "Epoch 59/100\n",
            "38/38 [==============================] - 0s 7ms/step - loss: 0.0013 - accuracy: 1.0000\n",
            "Epoch 60/100\n",
            "38/38 [==============================] - 0s 5ms/step - loss: 0.0012 - accuracy: 1.0000\n",
            "Epoch 61/100\n",
            "38/38 [==============================] - 0s 5ms/step - loss: 0.0011 - accuracy: 1.0000\n",
            "Epoch 62/100\n",
            "38/38 [==============================] - 0s 7ms/step - loss: 0.0011 - accuracy: 1.0000\n",
            "Epoch 63/100\n",
            "38/38 [==============================] - 0s 6ms/step - loss: 0.0010 - accuracy: 1.0000\n",
            "Epoch 64/100\n",
            "38/38 [==============================] - 0s 5ms/step - loss: 9.5890e-04 - accuracy: 1.0000\n",
            "Epoch 65/100\n",
            "38/38 [==============================] - 0s 6ms/step - loss: 9.3153e-04 - accuracy: 1.0000\n",
            "Epoch 66/100\n",
            "38/38 [==============================] - 0s 8ms/step - loss: 8.6785e-04 - accuracy: 1.0000\n",
            "Epoch 67/100\n",
            "38/38 [==============================] - 0s 6ms/step - loss: 8.2407e-04 - accuracy: 1.0000\n",
            "Epoch 68/100\n",
            "38/38 [==============================] - 0s 6ms/step - loss: 8.3151e-04 - accuracy: 1.0000\n",
            "Epoch 69/100\n",
            "38/38 [==============================] - 0s 6ms/step - loss: 8.0117e-04 - accuracy: 1.0000\n",
            "Epoch 70/100\n",
            "38/38 [==============================] - 0s 6ms/step - loss: 7.4163e-04 - accuracy: 1.0000\n",
            "Epoch 71/100\n",
            "38/38 [==============================] - 0s 6ms/step - loss: 6.7809e-04 - accuracy: 1.0000\n",
            "Epoch 72/100\n",
            "38/38 [==============================] - 0s 7ms/step - loss: 6.4762e-04 - accuracy: 1.0000\n",
            "Epoch 73/100\n",
            "38/38 [==============================] - 0s 9ms/step - loss: 6.3828e-04 - accuracy: 1.0000\n",
            "Epoch 74/100\n",
            "38/38 [==============================] - 0s 10ms/step - loss: 6.2901e-04 - accuracy: 1.0000\n",
            "Epoch 75/100\n",
            "38/38 [==============================] - 0s 8ms/step - loss: 5.9657e-04 - accuracy: 1.0000\n",
            "Epoch 76/100\n",
            "38/38 [==============================] - 0s 9ms/step - loss: 5.8670e-04 - accuracy: 1.0000\n",
            "Epoch 77/100\n",
            "38/38 [==============================] - 0s 9ms/step - loss: 5.3331e-04 - accuracy: 1.0000\n",
            "Epoch 78/100\n",
            "38/38 [==============================] - 0s 7ms/step - loss: 4.9975e-04 - accuracy: 1.0000\n",
            "Epoch 79/100\n",
            "38/38 [==============================] - 0s 11ms/step - loss: 4.8203e-04 - accuracy: 1.0000\n",
            "Epoch 80/100\n",
            "38/38 [==============================] - 0s 8ms/step - loss: 4.6066e-04 - accuracy: 1.0000\n",
            "Epoch 81/100\n",
            "38/38 [==============================] - 0s 8ms/step - loss: 4.4268e-04 - accuracy: 1.0000\n",
            "Epoch 82/100\n",
            "38/38 [==============================] - 0s 11ms/step - loss: 4.3357e-04 - accuracy: 1.0000\n",
            "Epoch 83/100\n",
            "38/38 [==============================] - 0s 8ms/step - loss: 4.1454e-04 - accuracy: 1.0000\n",
            "Epoch 84/100\n",
            "38/38 [==============================] - 0s 10ms/step - loss: 3.9517e-04 - accuracy: 1.0000\n",
            "Epoch 85/100\n",
            "38/38 [==============================] - 0s 10ms/step - loss: 3.7798e-04 - accuracy: 1.0000\n",
            "Epoch 86/100\n",
            "38/38 [==============================] - 0s 9ms/step - loss: 3.6387e-04 - accuracy: 1.0000\n",
            "Epoch 87/100\n",
            "38/38 [==============================] - 0s 7ms/step - loss: 3.5696e-04 - accuracy: 1.0000\n",
            "Epoch 88/100\n",
            "38/38 [==============================] - 0s 6ms/step - loss: 3.4178e-04 - accuracy: 1.0000\n",
            "Epoch 89/100\n",
            "38/38 [==============================] - 0s 6ms/step - loss: 3.2978e-04 - accuracy: 1.0000\n",
            "Epoch 90/100\n",
            "38/38 [==============================] - 0s 7ms/step - loss: 3.1182e-04 - accuracy: 1.0000\n",
            "Epoch 91/100\n",
            "38/38 [==============================] - 0s 6ms/step - loss: 3.0741e-04 - accuracy: 1.0000\n",
            "Epoch 92/100\n",
            "38/38 [==============================] - 0s 7ms/step - loss: 2.9054e-04 - accuracy: 1.0000\n",
            "Epoch 93/100\n",
            "38/38 [==============================] - 0s 7ms/step - loss: 2.8408e-04 - accuracy: 1.0000\n",
            "Epoch 94/100\n",
            "38/38 [==============================] - 0s 5ms/step - loss: 2.7534e-04 - accuracy: 1.0000\n",
            "Epoch 95/100\n",
            "38/38 [==============================] - 0s 6ms/step - loss: 2.6511e-04 - accuracy: 1.0000\n",
            "Epoch 96/100\n",
            "38/38 [==============================] - 0s 8ms/step - loss: 2.5017e-04 - accuracy: 1.0000\n",
            "Epoch 97/100\n",
            "38/38 [==============================] - 0s 8ms/step - loss: 2.4149e-04 - accuracy: 1.0000\n",
            "Epoch 98/100\n",
            "38/38 [==============================] - 0s 7ms/step - loss: 2.3645e-04 - accuracy: 1.0000\n",
            "Epoch 99/100\n",
            "38/38 [==============================] - 0s 7ms/step - loss: 2.2865e-04 - accuracy: 1.0000\n",
            "Epoch 100/100\n",
            "38/38 [==============================] - 0s 8ms/step - loss: 2.1511e-04 - accuracy: 1.0000\n"
          ]
        },
        {
          "output_type": "execute_result",
          "data": {
            "text/plain": [
              "<keras.callbacks.History at 0x7fb0ac49b160>"
            ]
          },
          "metadata": {},
          "execution_count": 17
        }
      ],
      "source": [
        "model = Sequential()\n",
        "model.add(Dense(32, activation = 'relu', input_dim = 20))\n",
        "model.add(Dense(40, activation = 'elu'))\n",
        "model.add(Dense(20, activation = 'elu'))\n",
        "model.add(Dense(35, activation = 'relu'))\n",
        "model.add(Dense(4, activation = 'softmax'))\n",
        "\n",
        "model.compile(optimizer='Adam', loss=\"categorical_crossentropy\", metrics = ['accuracy'])\n",
        "model.fit(X_train, y_train, batch_size=40, epochs = 100)"
      ]
    },
    {
      "cell_type": "markdown",
      "metadata": {
        "id": "s5e2ipQ96lBX"
      },
      "source": [
        "#Since our model is over-fitting the data so we have to do hyper-parameter tuning to achieve appropriate paramerers\n",
        "1. What will the best optimizers\n",
        "2. How many neurons show we use\n",
        "3. How many Layers should we use\n",
        "4. Learning rate \n"
      ]
    },
    {
      "cell_type": "code",
      "execution_count": 19,
      "metadata": {
        "id": "pac0BLEk6ko_"
      },
      "outputs": [],
      "source": [
        "def build_model(hp):\n",
        "    model = keras.Sequential()\n",
        "    model.add(layers.Flatten())\n",
        "    model.add(\n",
        "        layers.Dense(\n",
        "            # Define the hyperparameter.\n",
        "            units=hp.Int(\"units\", min_value=32, max_value=512, step=32),\n",
        "            activation=\"relu\",\n",
        "        )\n",
        "    )\n",
        "    model.add(layers.Dense(4, activation=\"softmax\"))\n",
        "    optimizers = hp.Choice('optimizers', values=['adam', 'rmsprop', 'sgd', 'adagrad', 'adadelta', 'nadadm'])\n",
        "    model.compile(\n",
        "        optimizer=optimizers, loss=\"categorical_crossentropy\", metrics=[\"accuracy\"],\n",
        "    )\n",
        "    return model"
      ]
    },
    {
      "cell_type": "code",
      "execution_count": 20,
      "metadata": {
        "id": "rlWRAhk2v4W3"
      },
      "outputs": [],
      "source": [
        "tuner = RandomSearch(build_model, objective=\"val_accuracy\",\n",
        "    max_trials=10,\n",
        "    overwrite=True,\n",
        "    directory=\"my_dir\",\n",
        "    project_name=\"check\")"
      ]
    },
    {
      "cell_type": "code",
      "execution_count": 21,
      "metadata": {
        "colab": {
          "base_uri": "https://localhost:8080/"
        },
        "id": "sM4gE_dmv4Ud",
        "outputId": "04c79876-be9e-4db2-b861-c46a9b8bf7d1"
      },
      "outputs": [
        {
          "output_type": "stream",
          "name": "stdout",
          "text": [
            "Trial 10 Complete [00h 00m 03s]\n",
            "val_accuracy: 0.6100000143051147\n",
            "\n",
            "Best val_accuracy So Far: 0.8960000276565552\n",
            "Total elapsed time: 00h 00m 23s\n"
          ]
        }
      ],
      "source": [
        "tuner.search(X_train, y_train, epochs=5, validation_data=(X_test, y_test))"
      ]
    },
    {
      "cell_type": "code",
      "execution_count": 22,
      "metadata": {
        "colab": {
          "base_uri": "https://localhost:8080/"
        },
        "id": "MvdKFkjlv4R5",
        "outputId": "23b3ff29-12f8-4d76-9091-ec1a82fe88e9"
      },
      "outputs": [
        {
          "output_type": "execute_result",
          "data": {
            "text/plain": [
              "{'units': 480, 'optimizers': 'rmsprop'}"
            ]
          },
          "metadata": {},
          "execution_count": 22
        }
      ],
      "source": [
        "tuner.get_best_hyperparameters()[0].values"
      ]
    },
    {
      "cell_type": "code",
      "execution_count": 23,
      "metadata": {
        "colab": {
          "base_uri": "https://localhost:8080/"
        },
        "id": "Oj7MqCG_v4Po",
        "outputId": "9fe4b39a-90c8-476c-ecc3-096af29f4f60"
      },
      "outputs": [
        {
          "output_type": "stream",
          "name": "stderr",
          "text": [
            "WARNING:tensorflow:Detecting that an object or model or tf.train.Checkpoint is being deleted with unrestored values. See the following logs for the specific values in question. To silence these warnings, use `status.expect_partial()`. See https://www.tensorflow.org/api_docs/python/tf/train/Checkpoint#restorefor details about the status object returned by the restore function.\n",
            "WARNING:tensorflow:Value in checkpoint could not be found in the restored object: (root).layer_with_weights-0.kernel\n",
            "WARNING:tensorflow:Value in checkpoint could not be found in the restored object: (root).layer_with_weights-0.bias\n",
            "WARNING:tensorflow:Value in checkpoint could not be found in the restored object: (root).layer_with_weights-1.kernel\n",
            "WARNING:tensorflow:Value in checkpoint could not be found in the restored object: (root).layer_with_weights-1.bias\n",
            "WARNING:tensorflow:Value in checkpoint could not be found in the restored object: (root).optimizer._variables.1\n",
            "WARNING:tensorflow:Value in checkpoint could not be found in the restored object: (root).optimizer._variables.2\n",
            "WARNING:tensorflow:Value in checkpoint could not be found in the restored object: (root).optimizer._variables.3\n",
            "WARNING:tensorflow:Value in checkpoint could not be found in the restored object: (root).optimizer._variables.4\n"
          ]
        }
      ],
      "source": [
        "model = tuner.get_best_models(num_models = 2)[0]"
      ]
    },
    {
      "cell_type": "code",
      "execution_count": null,
      "metadata": {
        "id": "PaGQH85Hv4M-"
      },
      "outputs": [],
      "source": [
        "tuner.results_summary()"
      ]
    },
    {
      "cell_type": "code",
      "execution_count": 25,
      "metadata": {
        "colab": {
          "base_uri": "https://localhost:8080/"
        },
        "id": "2-i_Z3DAv4Kc",
        "outputId": "18808cab-56bc-4a80-8e5c-a964421ebb02"
      },
      "outputs": [
        {
          "output_type": "stream",
          "name": "stdout",
          "text": [
            "Epoch 6/100\n",
            "38/38 [==============================] - 1s 8ms/step - loss: 0.2713 - accuracy: 0.9567 - val_loss: 0.3124 - val_accuracy: 0.9040\n",
            "Epoch 7/100\n",
            "38/38 [==============================] - 0s 5ms/step - loss: 0.2301 - accuracy: 0.9687 - val_loss: 0.2797 - val_accuracy: 0.9220\n",
            "Epoch 8/100\n",
            "38/38 [==============================] - 0s 5ms/step - loss: 0.1952 - accuracy: 0.9793 - val_loss: 0.2553 - val_accuracy: 0.9220\n",
            "Epoch 9/100\n",
            "38/38 [==============================] - 0s 4ms/step - loss: 0.1694 - accuracy: 0.9740 - val_loss: 0.2491 - val_accuracy: 0.9100\n",
            "Epoch 10/100\n",
            "38/38 [==============================] - 0s 5ms/step - loss: 0.1481 - accuracy: 0.9800 - val_loss: 0.2276 - val_accuracy: 0.9220\n",
            "Epoch 11/100\n",
            "38/38 [==============================] - 0s 4ms/step - loss: 0.1317 - accuracy: 0.9840 - val_loss: 0.2212 - val_accuracy: 0.9180\n",
            "Epoch 12/100\n",
            "38/38 [==============================] - 0s 4ms/step - loss: 0.1171 - accuracy: 0.9880 - val_loss: 0.2083 - val_accuracy: 0.9260\n",
            "Epoch 13/100\n",
            "38/38 [==============================] - 0s 4ms/step - loss: 0.1038 - accuracy: 0.9867 - val_loss: 0.2000 - val_accuracy: 0.9180\n",
            "Epoch 14/100\n",
            "38/38 [==============================] - 0s 5ms/step - loss: 0.0936 - accuracy: 0.9900 - val_loss: 0.1970 - val_accuracy: 0.9200\n",
            "Epoch 15/100\n",
            "38/38 [==============================] - 0s 5ms/step - loss: 0.0850 - accuracy: 0.9913 - val_loss: 0.1895 - val_accuracy: 0.9220\n",
            "Epoch 16/100\n",
            "38/38 [==============================] - 0s 4ms/step - loss: 0.0758 - accuracy: 0.9947 - val_loss: 0.1943 - val_accuracy: 0.9140\n",
            "Epoch 17/100\n",
            "38/38 [==============================] - 0s 4ms/step - loss: 0.0690 - accuracy: 0.9973 - val_loss: 0.1867 - val_accuracy: 0.9220\n",
            "Epoch 18/100\n",
            "38/38 [==============================] - 0s 4ms/step - loss: 0.0620 - accuracy: 0.9960 - val_loss: 0.1953 - val_accuracy: 0.9120\n",
            "Epoch 19/100\n",
            "38/38 [==============================] - 0s 4ms/step - loss: 0.0567 - accuracy: 0.9960 - val_loss: 0.1882 - val_accuracy: 0.9220\n",
            "Epoch 20/100\n",
            "38/38 [==============================] - 0s 7ms/step - loss: 0.0515 - accuracy: 0.9980 - val_loss: 0.1855 - val_accuracy: 0.9220\n",
            "Epoch 21/100\n",
            "38/38 [==============================] - 0s 6ms/step - loss: 0.0473 - accuracy: 0.9967 - val_loss: 0.1838 - val_accuracy: 0.9160\n",
            "Epoch 22/100\n",
            "38/38 [==============================] - 0s 7ms/step - loss: 0.0429 - accuracy: 0.9967 - val_loss: 0.1860 - val_accuracy: 0.9080\n",
            "Epoch 23/100\n",
            "38/38 [==============================] - 0s 6ms/step - loss: 0.0389 - accuracy: 0.9987 - val_loss: 0.1814 - val_accuracy: 0.9120\n",
            "Epoch 24/100\n",
            "38/38 [==============================] - 0s 6ms/step - loss: 0.0349 - accuracy: 0.9993 - val_loss: 0.1873 - val_accuracy: 0.9120\n",
            "Epoch 25/100\n",
            "38/38 [==============================] - 0s 7ms/step - loss: 0.0324 - accuracy: 0.9993 - val_loss: 0.1826 - val_accuracy: 0.9140\n",
            "Epoch 26/100\n",
            "38/38 [==============================] - 0s 6ms/step - loss: 0.0289 - accuracy: 0.9993 - val_loss: 0.1886 - val_accuracy: 0.9020\n",
            "Epoch 27/100\n",
            "38/38 [==============================] - 0s 7ms/step - loss: 0.0266 - accuracy: 1.0000 - val_loss: 0.1847 - val_accuracy: 0.9200\n",
            "Epoch 28/100\n",
            "38/38 [==============================] - 0s 6ms/step - loss: 0.0237 - accuracy: 0.9993 - val_loss: 0.1857 - val_accuracy: 0.9180\n",
            "Epoch 29/100\n",
            "38/38 [==============================] - 0s 7ms/step - loss: 0.0221 - accuracy: 1.0000 - val_loss: 0.1861 - val_accuracy: 0.9100\n",
            "Epoch 30/100\n",
            "38/38 [==============================] - 0s 6ms/step - loss: 0.0197 - accuracy: 1.0000 - val_loss: 0.1853 - val_accuracy: 0.9160\n",
            "Epoch 31/100\n",
            "38/38 [==============================] - 0s 7ms/step - loss: 0.0181 - accuracy: 0.9993 - val_loss: 0.1850 - val_accuracy: 0.9000\n",
            "Epoch 32/100\n",
            "38/38 [==============================] - 0s 7ms/step - loss: 0.0159 - accuracy: 1.0000 - val_loss: 0.1735 - val_accuracy: 0.9140\n",
            "Epoch 33/100\n",
            "38/38 [==============================] - 0s 6ms/step - loss: 0.0151 - accuracy: 1.0000 - val_loss: 0.1803 - val_accuracy: 0.9100\n",
            "Epoch 34/100\n",
            "38/38 [==============================] - 0s 7ms/step - loss: 0.0133 - accuracy: 1.0000 - val_loss: 0.1857 - val_accuracy: 0.9100\n",
            "Epoch 35/100\n",
            "38/38 [==============================] - 0s 6ms/step - loss: 0.0125 - accuracy: 1.0000 - val_loss: 0.1988 - val_accuracy: 0.9060\n",
            "Epoch 36/100\n",
            "38/38 [==============================] - 0s 4ms/step - loss: 0.0114 - accuracy: 1.0000 - val_loss: 0.1898 - val_accuracy: 0.9120\n",
            "Epoch 37/100\n",
            "38/38 [==============================] - 0s 4ms/step - loss: 0.0100 - accuracy: 1.0000 - val_loss: 0.1846 - val_accuracy: 0.9140\n",
            "Epoch 38/100\n",
            "38/38 [==============================] - 0s 5ms/step - loss: 0.0092 - accuracy: 1.0000 - val_loss: 0.1928 - val_accuracy: 0.9060\n",
            "Epoch 39/100\n",
            "38/38 [==============================] - 0s 4ms/step - loss: 0.0083 - accuracy: 1.0000 - val_loss: 0.1926 - val_accuracy: 0.9100\n",
            "Epoch 40/100\n",
            "38/38 [==============================] - 0s 4ms/step - loss: 0.0076 - accuracy: 1.0000 - val_loss: 0.1986 - val_accuracy: 0.9160\n",
            "Epoch 41/100\n",
            "38/38 [==============================] - 0s 4ms/step - loss: 0.0068 - accuracy: 1.0000 - val_loss: 0.2020 - val_accuracy: 0.9060\n",
            "Epoch 42/100\n",
            "38/38 [==============================] - 0s 4ms/step - loss: 0.0061 - accuracy: 1.0000 - val_loss: 0.1989 - val_accuracy: 0.9120\n",
            "Epoch 43/100\n",
            "38/38 [==============================] - 0s 5ms/step - loss: 0.0056 - accuracy: 1.0000 - val_loss: 0.1972 - val_accuracy: 0.9100\n",
            "Epoch 44/100\n",
            "38/38 [==============================] - 0s 5ms/step - loss: 0.0051 - accuracy: 1.0000 - val_loss: 0.2062 - val_accuracy: 0.9060\n",
            "Epoch 45/100\n",
            "38/38 [==============================] - 0s 4ms/step - loss: 0.0047 - accuracy: 1.0000 - val_loss: 0.2011 - val_accuracy: 0.9100\n",
            "Epoch 46/100\n",
            "38/38 [==============================] - 0s 4ms/step - loss: 0.0042 - accuracy: 1.0000 - val_loss: 0.2002 - val_accuracy: 0.9140\n",
            "Epoch 47/100\n",
            "38/38 [==============================] - 0s 4ms/step - loss: 0.0039 - accuracy: 1.0000 - val_loss: 0.2168 - val_accuracy: 0.9040\n",
            "Epoch 48/100\n",
            "38/38 [==============================] - 0s 5ms/step - loss: 0.0034 - accuracy: 1.0000 - val_loss: 0.2008 - val_accuracy: 0.9120\n",
            "Epoch 49/100\n",
            "38/38 [==============================] - 0s 5ms/step - loss: 0.0032 - accuracy: 1.0000 - val_loss: 0.2180 - val_accuracy: 0.9120\n",
            "Epoch 50/100\n",
            "38/38 [==============================] - 0s 5ms/step - loss: 0.0029 - accuracy: 1.0000 - val_loss: 0.2057 - val_accuracy: 0.9080\n",
            "Epoch 51/100\n",
            "38/38 [==============================] - 0s 4ms/step - loss: 0.0027 - accuracy: 1.0000 - val_loss: 0.2215 - val_accuracy: 0.8940\n",
            "Epoch 52/100\n",
            "38/38 [==============================] - 0s 5ms/step - loss: 0.0025 - accuracy: 1.0000 - val_loss: 0.2123 - val_accuracy: 0.9080\n",
            "Epoch 53/100\n",
            "38/38 [==============================] - 0s 5ms/step - loss: 0.0023 - accuracy: 1.0000 - val_loss: 0.2041 - val_accuracy: 0.9100\n",
            "Epoch 54/100\n",
            "38/38 [==============================] - 0s 4ms/step - loss: 0.0021 - accuracy: 1.0000 - val_loss: 0.2155 - val_accuracy: 0.9020\n",
            "Epoch 55/100\n",
            "38/38 [==============================] - 0s 4ms/step - loss: 0.0020 - accuracy: 1.0000 - val_loss: 0.2145 - val_accuracy: 0.9020\n",
            "Epoch 56/100\n",
            "38/38 [==============================] - 0s 4ms/step - loss: 0.0018 - accuracy: 1.0000 - val_loss: 0.2229 - val_accuracy: 0.9040\n",
            "Epoch 57/100\n",
            "38/38 [==============================] - 0s 4ms/step - loss: 0.0017 - accuracy: 1.0000 - val_loss: 0.2130 - val_accuracy: 0.9060\n",
            "Epoch 58/100\n",
            "38/38 [==============================] - 0s 4ms/step - loss: 0.0016 - accuracy: 1.0000 - val_loss: 0.2250 - val_accuracy: 0.9000\n",
            "Epoch 59/100\n",
            "38/38 [==============================] - 0s 5ms/step - loss: 0.0015 - accuracy: 1.0000 - val_loss: 0.2247 - val_accuracy: 0.9040\n",
            "Epoch 60/100\n",
            "38/38 [==============================] - 0s 5ms/step - loss: 0.0014 - accuracy: 1.0000 - val_loss: 0.2210 - val_accuracy: 0.9080\n",
            "Epoch 61/100\n",
            "38/38 [==============================] - 0s 4ms/step - loss: 0.0013 - accuracy: 1.0000 - val_loss: 0.2183 - val_accuracy: 0.9060\n",
            "Epoch 62/100\n",
            "38/38 [==============================] - 0s 4ms/step - loss: 0.0012 - accuracy: 1.0000 - val_loss: 0.2234 - val_accuracy: 0.9080\n",
            "Epoch 63/100\n",
            "38/38 [==============================] - 0s 5ms/step - loss: 0.0012 - accuracy: 1.0000 - val_loss: 0.2228 - val_accuracy: 0.9040\n",
            "Epoch 64/100\n",
            "38/38 [==============================] - 0s 4ms/step - loss: 0.0011 - accuracy: 1.0000 - val_loss: 0.2242 - val_accuracy: 0.9020\n",
            "Epoch 65/100\n",
            "38/38 [==============================] - 0s 4ms/step - loss: 0.0010 - accuracy: 1.0000 - val_loss: 0.2300 - val_accuracy: 0.9060\n",
            "Epoch 66/100\n",
            "38/38 [==============================] - 0s 5ms/step - loss: 9.8808e-04 - accuracy: 1.0000 - val_loss: 0.2246 - val_accuracy: 0.9080\n",
            "Epoch 67/100\n",
            "38/38 [==============================] - 0s 5ms/step - loss: 9.3230e-04 - accuracy: 1.0000 - val_loss: 0.2267 - val_accuracy: 0.9020\n",
            "Epoch 68/100\n",
            "38/38 [==============================] - 0s 4ms/step - loss: 8.9214e-04 - accuracy: 1.0000 - val_loss: 0.2363 - val_accuracy: 0.9020\n",
            "Epoch 69/100\n",
            "38/38 [==============================] - 0s 5ms/step - loss: 8.5198e-04 - accuracy: 1.0000 - val_loss: 0.2347 - val_accuracy: 0.9040\n",
            "Epoch 70/100\n",
            "38/38 [==============================] - 0s 4ms/step - loss: 8.2409e-04 - accuracy: 1.0000 - val_loss: 0.2308 - val_accuracy: 0.9040\n",
            "Epoch 71/100\n",
            "38/38 [==============================] - 0s 6ms/step - loss: 7.7984e-04 - accuracy: 1.0000 - val_loss: 0.2381 - val_accuracy: 0.9020\n",
            "Epoch 72/100\n",
            "38/38 [==============================] - 0s 4ms/step - loss: 7.5098e-04 - accuracy: 1.0000 - val_loss: 0.2385 - val_accuracy: 0.9060\n",
            "Epoch 73/100\n",
            "38/38 [==============================] - 0s 4ms/step - loss: 7.2245e-04 - accuracy: 1.0000 - val_loss: 0.2383 - val_accuracy: 0.9020\n",
            "Epoch 74/100\n",
            "38/38 [==============================] - 0s 4ms/step - loss: 6.9252e-04 - accuracy: 1.0000 - val_loss: 0.2370 - val_accuracy: 0.9040\n",
            "Epoch 75/100\n",
            "38/38 [==============================] - 0s 4ms/step - loss: 6.7154e-04 - accuracy: 1.0000 - val_loss: 0.2403 - val_accuracy: 0.9020\n",
            "Epoch 76/100\n",
            "38/38 [==============================] - 0s 5ms/step - loss: 6.5147e-04 - accuracy: 1.0000 - val_loss: 0.2375 - val_accuracy: 0.9020\n",
            "Epoch 77/100\n",
            "38/38 [==============================] - 0s 5ms/step - loss: 6.2279e-04 - accuracy: 1.0000 - val_loss: 0.2386 - val_accuracy: 0.9040\n",
            "Epoch 78/100\n",
            "38/38 [==============================] - 0s 4ms/step - loss: 6.0820e-04 - accuracy: 1.0000 - val_loss: 0.2441 - val_accuracy: 0.9000\n",
            "Epoch 79/100\n",
            "38/38 [==============================] - 0s 6ms/step - loss: 5.8248e-04 - accuracy: 1.0000 - val_loss: 0.2414 - val_accuracy: 0.9000\n",
            "Epoch 80/100\n",
            "38/38 [==============================] - 0s 4ms/step - loss: 5.7274e-04 - accuracy: 1.0000 - val_loss: 0.2431 - val_accuracy: 0.9040\n",
            "Epoch 81/100\n",
            "38/38 [==============================] - 0s 4ms/step - loss: 5.4883e-04 - accuracy: 1.0000 - val_loss: 0.2428 - val_accuracy: 0.9000\n",
            "Epoch 82/100\n",
            "38/38 [==============================] - 0s 5ms/step - loss: 5.2827e-04 - accuracy: 1.0000 - val_loss: 0.2453 - val_accuracy: 0.9000\n",
            "Epoch 83/100\n",
            "38/38 [==============================] - 0s 4ms/step - loss: 5.1701e-04 - accuracy: 1.0000 - val_loss: 0.2416 - val_accuracy: 0.9040\n",
            "Epoch 84/100\n",
            "38/38 [==============================] - 0s 4ms/step - loss: 4.9881e-04 - accuracy: 1.0000 - val_loss: 0.2443 - val_accuracy: 0.9020\n",
            "Epoch 85/100\n",
            "38/38 [==============================] - 0s 5ms/step - loss: 4.9016e-04 - accuracy: 1.0000 - val_loss: 0.2436 - val_accuracy: 0.9040\n",
            "Epoch 86/100\n",
            "38/38 [==============================] - 0s 4ms/step - loss: 4.7722e-04 - accuracy: 1.0000 - val_loss: 0.2488 - val_accuracy: 0.8980\n",
            "Epoch 87/100\n",
            "38/38 [==============================] - 0s 4ms/step - loss: 4.6183e-04 - accuracy: 1.0000 - val_loss: 0.2446 - val_accuracy: 0.9020\n",
            "Epoch 88/100\n",
            "38/38 [==============================] - 0s 4ms/step - loss: 4.5517e-04 - accuracy: 1.0000 - val_loss: 0.2467 - val_accuracy: 0.9000\n",
            "Epoch 89/100\n",
            "38/38 [==============================] - 0s 4ms/step - loss: 4.3872e-04 - accuracy: 1.0000 - val_loss: 0.2451 - val_accuracy: 0.9040\n",
            "Epoch 90/100\n",
            "38/38 [==============================] - 0s 4ms/step - loss: 4.3140e-04 - accuracy: 1.0000 - val_loss: 0.2508 - val_accuracy: 0.9000\n",
            "Epoch 91/100\n",
            "38/38 [==============================] - 0s 7ms/step - loss: 4.1966e-04 - accuracy: 1.0000 - val_loss: 0.2464 - val_accuracy: 0.9040\n",
            "Epoch 92/100\n",
            "38/38 [==============================] - 0s 6ms/step - loss: 4.0932e-04 - accuracy: 1.0000 - val_loss: 0.2508 - val_accuracy: 0.9020\n",
            "Epoch 93/100\n",
            "38/38 [==============================] - 0s 7ms/step - loss: 4.0050e-04 - accuracy: 1.0000 - val_loss: 0.2486 - val_accuracy: 0.9040\n",
            "Epoch 94/100\n",
            "38/38 [==============================] - 0s 7ms/step - loss: 3.9204e-04 - accuracy: 1.0000 - val_loss: 0.2485 - val_accuracy: 0.9020\n",
            "Epoch 95/100\n",
            "38/38 [==============================] - 0s 6ms/step - loss: 3.8234e-04 - accuracy: 1.0000 - val_loss: 0.2513 - val_accuracy: 0.8980\n",
            "Epoch 96/100\n",
            "38/38 [==============================] - 0s 7ms/step - loss: 3.7456e-04 - accuracy: 1.0000 - val_loss: 0.2523 - val_accuracy: 0.9000\n",
            "Epoch 97/100\n",
            "38/38 [==============================] - 0s 7ms/step - loss: 3.6471e-04 - accuracy: 1.0000 - val_loss: 0.2525 - val_accuracy: 0.9020\n",
            "Epoch 98/100\n",
            "38/38 [==============================] - 0s 7ms/step - loss: 3.5809e-04 - accuracy: 1.0000 - val_loss: 0.2552 - val_accuracy: 0.9040\n",
            "Epoch 99/100\n",
            "38/38 [==============================] - 0s 6ms/step - loss: 3.5179e-04 - accuracy: 1.0000 - val_loss: 0.2525 - val_accuracy: 0.9040\n",
            "Epoch 100/100\n",
            "38/38 [==============================] - 0s 6ms/step - loss: 3.4426e-04 - accuracy: 1.0000 - val_loss: 0.2533 - val_accuracy: 0.9040\n"
          ]
        },
        {
          "output_type": "execute_result",
          "data": {
            "text/plain": [
              "<keras.callbacks.History at 0x7fb0ac435790>"
            ]
          },
          "metadata": {},
          "execution_count": 25
        }
      ],
      "source": [
        "model.fit(X_train, y_train,batch_size = 40, epochs=100, initial_epoch = 5, validation_data=(X_test, y_test))"
      ]
    },
    {
      "cell_type": "markdown",
      "metadata": {
        "id": "CblN0zE7JQj5"
      },
      "source": [
        "Now let's tune the layers and neurons of the network"
      ]
    },
    {
      "cell_type": "code",
      "execution_count": 26,
      "metadata": {
        "id": "WlO2DxMTJXXN"
      },
      "outputs": [],
      "source": [
        "def build_model(hp):\n",
        "  model = Sequential()\n",
        "\n",
        "  model.add(Dense(256,activation='relu',input_dim = 20))\n",
        "\n",
        "  for i in range(hp.Int('num_layers', min_value=2,max_value=30)):\n",
        "    model.add(Dense(256,activation='relu'))\n",
        "  model.add(Dense(4, activation='softmax'))\n",
        "\n",
        "  model.compile('rmsprop', loss=\"categorical_crossentropy\", metrics=[\"accuracy\"])\n",
        "  return model\n",
        "\n"
      ]
    },
    {
      "cell_type": "code",
      "execution_count": 27,
      "metadata": {
        "id": "q3qwJXkwJXGc"
      },
      "outputs": [],
      "source": [
        "tuner = RandomSearch(build_model, objective=\"val_accuracy\",\n",
        "    max_trials=5,\n",
        "    overwrite=True,\n",
        "    directory=\"my_dir\",\n",
        "    project_name=\"num_layers\")"
      ]
    },
    {
      "cell_type": "code",
      "execution_count": 28,
      "metadata": {
        "colab": {
          "base_uri": "https://localhost:8080/"
        },
        "id": "_YlPWLTRJXDz",
        "outputId": "28cd05e8-17ba-4d7f-d550-cb65c2b5c31c"
      },
      "outputs": [
        {
          "output_type": "stream",
          "name": "stdout",
          "text": [
            "Trial 5 Complete [00h 00m 09s]\n",
            "val_accuracy: 0.23999999463558197\n",
            "\n",
            "Best val_accuracy So Far: 0.8880000114440918\n",
            "Total elapsed time: 00h 00m 49s\n"
          ]
        }
      ],
      "source": [
        "tuner.search(X_train, y_train, epochs=5, validation_data=(X_test, y_test))"
      ]
    },
    {
      "cell_type": "code",
      "execution_count": 29,
      "metadata": {
        "colab": {
          "base_uri": "https://localhost:8080/"
        },
        "id": "83PlMvIRJXBa",
        "outputId": "f322d1a7-ce9a-4325-efb0-8ff2e3d118e2"
      },
      "outputs": [
        {
          "output_type": "execute_result",
          "data": {
            "text/plain": [
              "{'num_layers': 12}"
            ]
          },
          "metadata": {},
          "execution_count": 29
        }
      ],
      "source": [
        "tuner.get_best_hyperparameters()[0].values"
      ]
    },
    {
      "cell_type": "code",
      "execution_count": 30,
      "metadata": {
        "id": "x4L9Abktv4IC"
      },
      "outputs": [],
      "source": [
        "model = tuner.get_best_models(num_models = 1)[0]"
      ]
    },
    {
      "cell_type": "code",
      "execution_count": 31,
      "metadata": {
        "colab": {
          "base_uri": "https://localhost:8080/"
        },
        "id": "vyMbLil_v3ax",
        "outputId": "d177995a-39e9-450c-b5b3-d724468cb03c"
      },
      "outputs": [
        {
          "output_type": "stream",
          "name": "stdout",
          "text": [
            "Results summary\n",
            "Results in my_dir/num_layers\n",
            "Showing 10 best trials\n",
            "Objective(name=\"val_accuracy\", direction=\"max\")\n",
            "\n",
            "Trial 0 summary\n",
            "Hyperparameters:\n",
            "num_layers: 12\n",
            "Score: 0.8880000114440918\n",
            "\n",
            "Trial 2 summary\n",
            "Hyperparameters:\n",
            "num_layers: 10\n",
            "Score: 0.8820000290870667\n",
            "\n",
            "Trial 3 summary\n",
            "Hyperparameters:\n",
            "num_layers: 22\n",
            "Score: 0.25999999046325684\n",
            "\n",
            "Trial 1 summary\n",
            "Hyperparameters:\n",
            "num_layers: 27\n",
            "Score: 0.23999999463558197\n",
            "\n",
            "Trial 4 summary\n",
            "Hyperparameters:\n",
            "num_layers: 21\n",
            "Score: 0.23999999463558197\n"
          ]
        }
      ],
      "source": [
        "tuner.results_summary()"
      ]
    },
    {
      "cell_type": "code",
      "execution_count": 32,
      "metadata": {
        "colab": {
          "base_uri": "https://localhost:8080/"
        },
        "id": "wP76G0mKv3e0",
        "outputId": "10b3d300-5079-47b3-a4f2-c8b0e3e8d904"
      },
      "outputs": [
        {
          "output_type": "stream",
          "name": "stdout",
          "text": [
            "Epoch 6/100\n",
            "38/38 [==============================] - 4s 13ms/step - loss: 0.3867 - accuracy: 0.8627 - val_loss: 0.5165 - val_accuracy: 0.7860\n",
            "Epoch 7/100\n",
            "38/38 [==============================] - 0s 8ms/step - loss: 0.2350 - accuracy: 0.9220 - val_loss: 0.3326 - val_accuracy: 0.8900\n",
            "Epoch 8/100\n",
            "38/38 [==============================] - 0s 7ms/step - loss: 0.2653 - accuracy: 0.9187 - val_loss: 0.3281 - val_accuracy: 0.8740\n",
            "Epoch 9/100\n",
            "38/38 [==============================] - 0s 7ms/step - loss: 0.1872 - accuracy: 0.9393 - val_loss: 0.3952 - val_accuracy: 0.8600\n",
            "Epoch 10/100\n",
            "38/38 [==============================] - 0s 7ms/step - loss: 0.1802 - accuracy: 0.9493 - val_loss: 0.3168 - val_accuracy: 0.8900\n",
            "Epoch 11/100\n",
            "38/38 [==============================] - 0s 8ms/step - loss: 0.1429 - accuracy: 0.9607 - val_loss: 0.3776 - val_accuracy: 0.8960\n",
            "Epoch 12/100\n",
            "38/38 [==============================] - 0s 10ms/step - loss: 0.1334 - accuracy: 0.9587 - val_loss: 0.6365 - val_accuracy: 0.8540\n",
            "Epoch 13/100\n",
            "38/38 [==============================] - 0s 10ms/step - loss: 0.1100 - accuracy: 0.9687 - val_loss: 0.5103 - val_accuracy: 0.8440\n",
            "Epoch 14/100\n",
            "38/38 [==============================] - 0s 9ms/step - loss: 0.0688 - accuracy: 0.9793 - val_loss: 0.3836 - val_accuracy: 0.8940\n",
            "Epoch 15/100\n",
            "38/38 [==============================] - 0s 10ms/step - loss: 0.1047 - accuracy: 0.9727 - val_loss: 0.4537 - val_accuracy: 0.8840\n",
            "Epoch 16/100\n",
            "38/38 [==============================] - 0s 9ms/step - loss: 0.0689 - accuracy: 0.9833 - val_loss: 0.4084 - val_accuracy: 0.8860\n",
            "Epoch 17/100\n",
            "38/38 [==============================] - 0s 8ms/step - loss: 0.0469 - accuracy: 0.9847 - val_loss: 0.6355 - val_accuracy: 0.8400\n",
            "Epoch 18/100\n",
            "38/38 [==============================] - 0s 9ms/step - loss: 0.0495 - accuracy: 0.9827 - val_loss: 0.6291 - val_accuracy: 0.8600\n",
            "Epoch 19/100\n",
            "38/38 [==============================] - 0s 9ms/step - loss: 0.0554 - accuracy: 0.9840 - val_loss: 0.5218 - val_accuracy: 0.8740\n",
            "Epoch 20/100\n",
            "38/38 [==============================] - 0s 9ms/step - loss: 0.0192 - accuracy: 0.9953 - val_loss: 0.6556 - val_accuracy: 0.8900\n",
            "Epoch 21/100\n",
            "38/38 [==============================] - 0s 9ms/step - loss: 0.0780 - accuracy: 0.9827 - val_loss: 0.4864 - val_accuracy: 0.8840\n",
            "Epoch 22/100\n",
            "38/38 [==============================] - 0s 8ms/step - loss: 0.0422 - accuracy: 0.9893 - val_loss: 0.4721 - val_accuracy: 0.9020\n",
            "Epoch 23/100\n",
            "38/38 [==============================] - 0s 7ms/step - loss: 0.0437 - accuracy: 0.9893 - val_loss: 0.7817 - val_accuracy: 0.8540\n",
            "Epoch 24/100\n",
            "38/38 [==============================] - 0s 7ms/step - loss: 0.0402 - accuracy: 0.9927 - val_loss: 0.6373 - val_accuracy: 0.8860\n",
            "Epoch 25/100\n",
            "38/38 [==============================] - 0s 7ms/step - loss: 0.0173 - accuracy: 0.9973 - val_loss: 0.7904 - val_accuracy: 0.8820\n",
            "Epoch 26/100\n",
            "38/38 [==============================] - 0s 7ms/step - loss: 0.0500 - accuracy: 0.9867 - val_loss: 0.7115 - val_accuracy: 0.8400\n",
            "Epoch 27/100\n",
            "38/38 [==============================] - 0s 7ms/step - loss: 0.0260 - accuracy: 0.9960 - val_loss: 0.7145 - val_accuracy: 0.8960\n",
            "Epoch 28/100\n",
            "38/38 [==============================] - 0s 7ms/step - loss: 0.0381 - accuracy: 0.9947 - val_loss: 0.4719 - val_accuracy: 0.8840\n",
            "Epoch 29/100\n",
            "38/38 [==============================] - 0s 7ms/step - loss: 0.0296 - accuracy: 0.9927 - val_loss: 0.5240 - val_accuracy: 0.8940\n",
            "Epoch 30/100\n",
            "38/38 [==============================] - 0s 7ms/step - loss: 0.0266 - accuracy: 0.9940 - val_loss: 0.4171 - val_accuracy: 0.8920\n",
            "Epoch 31/100\n",
            "38/38 [==============================] - 0s 8ms/step - loss: 0.0453 - accuracy: 0.9907 - val_loss: 0.4315 - val_accuracy: 0.8920\n",
            "Epoch 32/100\n",
            "38/38 [==============================] - 0s 7ms/step - loss: 7.0496e-04 - accuracy: 1.0000 - val_loss: 0.5354 - val_accuracy: 0.8900\n",
            "Epoch 33/100\n",
            "38/38 [==============================] - 0s 7ms/step - loss: 4.8886e-05 - accuracy: 1.0000 - val_loss: 0.5566 - val_accuracy: 0.8920\n",
            "Epoch 34/100\n",
            "38/38 [==============================] - 0s 7ms/step - loss: 1.6712e-05 - accuracy: 1.0000 - val_loss: 0.5811 - val_accuracy: 0.8940\n",
            "Epoch 35/100\n",
            "38/38 [==============================] - 0s 6ms/step - loss: 9.2736e-06 - accuracy: 1.0000 - val_loss: 0.6016 - val_accuracy: 0.8920\n",
            "Epoch 36/100\n",
            "38/38 [==============================] - 0s 7ms/step - loss: 6.3225e-06 - accuracy: 1.0000 - val_loss: 0.6158 - val_accuracy: 0.8920\n",
            "Epoch 37/100\n",
            "38/38 [==============================] - 0s 7ms/step - loss: 4.7862e-06 - accuracy: 1.0000 - val_loss: 0.6270 - val_accuracy: 0.8900\n",
            "Epoch 38/100\n",
            "38/38 [==============================] - 0s 7ms/step - loss: 3.8473e-06 - accuracy: 1.0000 - val_loss: 0.6364 - val_accuracy: 0.8900\n",
            "Epoch 39/100\n",
            "38/38 [==============================] - 0s 7ms/step - loss: 3.2105e-06 - accuracy: 1.0000 - val_loss: 0.6446 - val_accuracy: 0.8900\n",
            "Epoch 40/100\n",
            "38/38 [==============================] - 0s 7ms/step - loss: 2.7454e-06 - accuracy: 1.0000 - val_loss: 0.6522 - val_accuracy: 0.8900\n",
            "Epoch 41/100\n",
            "38/38 [==============================] - 0s 7ms/step - loss: 2.3918e-06 - accuracy: 1.0000 - val_loss: 0.6591 - val_accuracy: 0.8900\n",
            "Epoch 42/100\n",
            "38/38 [==============================] - 0s 7ms/step - loss: 2.1148e-06 - accuracy: 1.0000 - val_loss: 0.6650 - val_accuracy: 0.8900\n",
            "Epoch 43/100\n",
            "38/38 [==============================] - 0s 8ms/step - loss: 1.8941e-06 - accuracy: 1.0000 - val_loss: 0.6702 - val_accuracy: 0.8900\n",
            "Epoch 44/100\n",
            "38/38 [==============================] - 0s 7ms/step - loss: 1.7142e-06 - accuracy: 1.0000 - val_loss: 0.6753 - val_accuracy: 0.8920\n",
            "Epoch 45/100\n",
            "38/38 [==============================] - 0s 7ms/step - loss: 1.5605e-06 - accuracy: 1.0000 - val_loss: 0.6797 - val_accuracy: 0.8920\n",
            "Epoch 46/100\n",
            "38/38 [==============================] - 0s 6ms/step - loss: 1.4353e-06 - accuracy: 1.0000 - val_loss: 0.6839 - val_accuracy: 0.8920\n",
            "Epoch 47/100\n",
            "38/38 [==============================] - 0s 8ms/step - loss: 1.3268e-06 - accuracy: 1.0000 - val_loss: 0.6879 - val_accuracy: 0.8920\n",
            "Epoch 48/100\n",
            "38/38 [==============================] - 0s 7ms/step - loss: 1.2322e-06 - accuracy: 1.0000 - val_loss: 0.6917 - val_accuracy: 0.8920\n",
            "Epoch 49/100\n",
            "38/38 [==============================] - 0s 7ms/step - loss: 1.1509e-06 - accuracy: 1.0000 - val_loss: 0.6952 - val_accuracy: 0.8920\n",
            "Epoch 50/100\n",
            "38/38 [==============================] - 0s 8ms/step - loss: 1.0782e-06 - accuracy: 1.0000 - val_loss: 0.6986 - val_accuracy: 0.8920\n",
            "Epoch 51/100\n",
            "38/38 [==============================] - 0s 7ms/step - loss: 1.0148e-06 - accuracy: 1.0000 - val_loss: 0.7017 - val_accuracy: 0.8920\n",
            "Epoch 52/100\n",
            "38/38 [==============================] - 0s 7ms/step - loss: 9.5733e-07 - accuracy: 1.0000 - val_loss: 0.7048 - val_accuracy: 0.8920\n",
            "Epoch 53/100\n",
            "38/38 [==============================] - 0s 6ms/step - loss: 9.0519e-07 - accuracy: 1.0000 - val_loss: 0.7078 - val_accuracy: 0.8920\n",
            "Epoch 54/100\n",
            "38/38 [==============================] - 0s 7ms/step - loss: 8.5918e-07 - accuracy: 1.0000 - val_loss: 0.7106 - val_accuracy: 0.8920\n",
            "Epoch 55/100\n",
            "38/38 [==============================] - 0s 7ms/step - loss: 8.1769e-07 - accuracy: 1.0000 - val_loss: 0.7132 - val_accuracy: 0.8920\n",
            "Epoch 56/100\n",
            "38/38 [==============================] - 0s 6ms/step - loss: 7.7875e-07 - accuracy: 1.0000 - val_loss: 0.7158 - val_accuracy: 0.8920\n",
            "Epoch 57/100\n",
            "38/38 [==============================] - 0s 8ms/step - loss: 7.4402e-07 - accuracy: 1.0000 - val_loss: 0.7181 - val_accuracy: 0.8920\n",
            "Epoch 58/100\n",
            "38/38 [==============================] - 0s 8ms/step - loss: 7.1112e-07 - accuracy: 1.0000 - val_loss: 0.7204 - val_accuracy: 0.8920\n",
            "Epoch 59/100\n",
            "38/38 [==============================] - 0s 9ms/step - loss: 6.8037e-07 - accuracy: 1.0000 - val_loss: 0.7228 - val_accuracy: 0.8920\n",
            "Epoch 60/100\n",
            "38/38 [==============================] - 0s 10ms/step - loss: 6.5382e-07 - accuracy: 1.0000 - val_loss: 0.7252 - val_accuracy: 0.8920\n",
            "Epoch 61/100\n",
            "38/38 [==============================] - 0s 9ms/step - loss: 6.2839e-07 - accuracy: 1.0000 - val_loss: 0.7273 - val_accuracy: 0.8920\n",
            "Epoch 62/100\n",
            "38/38 [==============================] - 0s 9ms/step - loss: 6.0510e-07 - accuracy: 1.0000 - val_loss: 0.7294 - val_accuracy: 0.8920\n",
            "Epoch 63/100\n",
            "38/38 [==============================] - 0s 9ms/step - loss: 5.8277e-07 - accuracy: 1.0000 - val_loss: 0.7314 - val_accuracy: 0.8920\n",
            "Epoch 64/100\n",
            "38/38 [==============================] - 0s 10ms/step - loss: 5.6259e-07 - accuracy: 1.0000 - val_loss: 0.7334 - val_accuracy: 0.8920\n",
            "Epoch 65/100\n",
            "38/38 [==============================] - 0s 10ms/step - loss: 5.4375e-07 - accuracy: 1.0000 - val_loss: 0.7353 - val_accuracy: 0.8920\n",
            "Epoch 66/100\n",
            "38/38 [==============================] - 0s 9ms/step - loss: 5.2476e-07 - accuracy: 1.0000 - val_loss: 0.7371 - val_accuracy: 0.8920\n",
            "Epoch 67/100\n",
            "38/38 [==============================] - 0s 10ms/step - loss: 5.0767e-07 - accuracy: 1.0000 - val_loss: 0.7391 - val_accuracy: 0.8920\n",
            "Epoch 68/100\n",
            "38/38 [==============================] - 0s 9ms/step - loss: 4.9122e-07 - accuracy: 1.0000 - val_loss: 0.7408 - val_accuracy: 0.8920\n",
            "Epoch 69/100\n",
            "38/38 [==============================] - 0s 6ms/step - loss: 4.7564e-07 - accuracy: 1.0000 - val_loss: 0.7425 - val_accuracy: 0.8920\n",
            "Epoch 70/100\n",
            "38/38 [==============================] - 0s 7ms/step - loss: 4.6158e-07 - accuracy: 1.0000 - val_loss: 0.7441 - val_accuracy: 0.8920\n",
            "Epoch 71/100\n",
            "38/38 [==============================] - 0s 7ms/step - loss: 4.4815e-07 - accuracy: 1.0000 - val_loss: 0.7457 - val_accuracy: 0.8920\n",
            "Epoch 72/100\n",
            "38/38 [==============================] - 0s 7ms/step - loss: 4.3472e-07 - accuracy: 1.0000 - val_loss: 0.7472 - val_accuracy: 0.8920\n",
            "Epoch 73/100\n",
            "38/38 [==============================] - 0s 7ms/step - loss: 4.2184e-07 - accuracy: 1.0000 - val_loss: 0.7487 - val_accuracy: 0.8920\n",
            "Epoch 74/100\n",
            "38/38 [==============================] - 0s 8ms/step - loss: 4.1151e-07 - accuracy: 1.0000 - val_loss: 0.7501 - val_accuracy: 0.8920\n",
            "Epoch 75/100\n",
            "38/38 [==============================] - 0s 7ms/step - loss: 4.0118e-07 - accuracy: 1.0000 - val_loss: 0.7516 - val_accuracy: 0.8920\n",
            "Epoch 76/100\n",
            "38/38 [==============================] - 0s 7ms/step - loss: 3.9077e-07 - accuracy: 1.0000 - val_loss: 0.7530 - val_accuracy: 0.8920\n",
            "Epoch 77/100\n",
            "38/38 [==============================] - 0s 7ms/step - loss: 3.8067e-07 - accuracy: 1.0000 - val_loss: 0.7543 - val_accuracy: 0.8920\n",
            "Epoch 78/100\n",
            "38/38 [==============================] - 0s 7ms/step - loss: 3.7146e-07 - accuracy: 1.0000 - val_loss: 0.7556 - val_accuracy: 0.8920\n",
            "Epoch 79/100\n",
            "38/38 [==============================] - 0s 7ms/step - loss: 3.6327e-07 - accuracy: 1.0000 - val_loss: 0.7570 - val_accuracy: 0.8920\n",
            "Epoch 80/100\n",
            "38/38 [==============================] - 0s 8ms/step - loss: 3.5453e-07 - accuracy: 1.0000 - val_loss: 0.7583 - val_accuracy: 0.8920\n",
            "Epoch 81/100\n",
            "38/38 [==============================] - 0s 7ms/step - loss: 3.4618e-07 - accuracy: 1.0000 - val_loss: 0.7595 - val_accuracy: 0.8920\n",
            "Epoch 82/100\n",
            "38/38 [==============================] - 0s 7ms/step - loss: 3.3784e-07 - accuracy: 1.0000 - val_loss: 0.7608 - val_accuracy: 0.8920\n",
            "Epoch 83/100\n",
            "38/38 [==============================] - 0s 7ms/step - loss: 3.3092e-07 - accuracy: 1.0000 - val_loss: 0.7619 - val_accuracy: 0.8920\n",
            "Epoch 84/100\n",
            "38/38 [==============================] - 0s 7ms/step - loss: 3.2377e-07 - accuracy: 1.0000 - val_loss: 0.7631 - val_accuracy: 0.8920\n",
            "Epoch 85/100\n",
            "38/38 [==============================] - 0s 8ms/step - loss: 3.1598e-07 - accuracy: 1.0000 - val_loss: 0.7642 - val_accuracy: 0.8920\n",
            "Epoch 86/100\n",
            "38/38 [==============================] - 0s 7ms/step - loss: 3.0923e-07 - accuracy: 1.0000 - val_loss: 0.7654 - val_accuracy: 0.8900\n",
            "Epoch 87/100\n",
            "38/38 [==============================] - 0s 6ms/step - loss: 3.0422e-07 - accuracy: 1.0000 - val_loss: 0.7665 - val_accuracy: 0.8900\n",
            "Epoch 88/100\n",
            "38/38 [==============================] - 0s 7ms/step - loss: 2.9842e-07 - accuracy: 1.0000 - val_loss: 0.7676 - val_accuracy: 0.8900\n",
            "Epoch 89/100\n",
            "38/38 [==============================] - 0s 8ms/step - loss: 2.9198e-07 - accuracy: 1.0000 - val_loss: 0.7687 - val_accuracy: 0.8900\n",
            "Epoch 90/100\n",
            "38/38 [==============================] - 0s 7ms/step - loss: 2.8578e-07 - accuracy: 1.0000 - val_loss: 0.7699 - val_accuracy: 0.8900\n",
            "Epoch 91/100\n",
            "38/38 [==============================] - 0s 7ms/step - loss: 2.8022e-07 - accuracy: 1.0000 - val_loss: 0.7709 - val_accuracy: 0.8900\n",
            "Epoch 92/100\n",
            "38/38 [==============================] - 0s 7ms/step - loss: 2.7513e-07 - accuracy: 1.0000 - val_loss: 0.7719 - val_accuracy: 0.8900\n",
            "Epoch 93/100\n",
            "38/38 [==============================] - 0s 6ms/step - loss: 2.6917e-07 - accuracy: 1.0000 - val_loss: 0.7729 - val_accuracy: 0.8900\n",
            "Epoch 94/100\n",
            "38/38 [==============================] - 0s 7ms/step - loss: 2.6496e-07 - accuracy: 1.0000 - val_loss: 0.7740 - val_accuracy: 0.8900\n",
            "Epoch 95/100\n",
            "38/38 [==============================] - 0s 7ms/step - loss: 2.5988e-07 - accuracy: 1.0000 - val_loss: 0.7750 - val_accuracy: 0.8900\n",
            "Epoch 96/100\n",
            "38/38 [==============================] - 0s 8ms/step - loss: 2.5503e-07 - accuracy: 1.0000 - val_loss: 0.7759 - val_accuracy: 0.8900\n",
            "Epoch 97/100\n",
            "38/38 [==============================] - 0s 8ms/step - loss: 2.5121e-07 - accuracy: 1.0000 - val_loss: 0.7769 - val_accuracy: 0.8900\n",
            "Epoch 98/100\n",
            "38/38 [==============================] - 0s 7ms/step - loss: 2.4692e-07 - accuracy: 1.0000 - val_loss: 0.7778 - val_accuracy: 0.8900\n",
            "Epoch 99/100\n",
            "38/38 [==============================] - 0s 7ms/step - loss: 2.4303e-07 - accuracy: 1.0000 - val_loss: 0.7788 - val_accuracy: 0.8900\n",
            "Epoch 100/100\n",
            "38/38 [==============================] - 0s 8ms/step - loss: 2.3882e-07 - accuracy: 1.0000 - val_loss: 0.7797 - val_accuracy: 0.8900\n"
          ]
        },
        {
          "output_type": "execute_result",
          "data": {
            "text/plain": [
              "<keras.callbacks.History at 0x7fb0a031fe20>"
            ]
          },
          "metadata": {},
          "execution_count": 32
        }
      ],
      "source": [
        "model.fit(X_train, y_train,batch_size = 40, epochs=100, initial_epoch = 5, validation_data=(X_test, y_test))"
      ]
    },
    {
      "cell_type": "code",
      "execution_count": 33,
      "metadata": {
        "id": "Z9yfd6oA3Bn4"
      },
      "outputs": [],
      "source": [
        "def build_model(hp):\n",
        "  \n",
        "  model = Sequential()\n",
        "  model.add(\n",
        "      Dense(\n",
        "          hp.Int('units_1', min_value = 12, max_value= 300, step = 10 ),\n",
        "          hp.Choice('activation1', values=['relu','elu','linear','sigmoid','tanh']),\n",
        "          input_dim = 20\n",
        "      )\n",
        "  )    \n",
        "  for i in range(hp.Int('num_layers', min_value=2, max_value=30)):\n",
        "    model.add(\n",
        "        Dense(\n",
        "            hp.Int('units_'+str(i), min_value=8, max_value= 512, step = 8),\n",
        "            activation = hp.Choice('activation'+str(i), values=['relu','elu','linear','sigmoid','tanh'])\n",
        "        )\n",
        "    )\n",
        "\n",
        "\n",
        "  model.add(Dense(4, activation=\"softmax\"))\n",
        "  optimizers = hp.Choice('optimizers', values=['adam', 'rmsprop', 'sgd', 'adagrad', 'adadelta', 'nadadm'])\n",
        "  model.compile(optimizer=optimizers, loss=\"categorical_crossentropy\", metrics=[\"accuracy\"])\n",
        "  return model"
      ]
    },
    {
      "cell_type": "code",
      "execution_count": 34,
      "metadata": {
        "id": "0xxt6A--7QlF"
      },
      "outputs": [],
      "source": [
        "tuner = RandomSearch(build_model, objective=\"val_accuracy\",\n",
        "    max_trials=5,\n",
        "    overwrite=True,\n",
        "    directory=\"my_dir\",\n",
        "    project_name=\"layers and units\")"
      ]
    },
    {
      "cell_type": "code",
      "execution_count": 41,
      "metadata": {
        "id": "UrG49BMj8FBq"
      },
      "outputs": [],
      "source": [
        " tuner.search(X_train, y_train, epochs=5, validation_data=(X_test, y_test))"
      ]
    },
    {
      "cell_type": "code",
      "execution_count": 43,
      "metadata": {
        "colab": {
          "base_uri": "https://localhost:8080/"
        },
        "id": "UD5R0usk7Qij",
        "outputId": "2db3042c-2a94-4885-cfac-bc7b478853d4"
      },
      "outputs": [
        {
          "output_type": "execute_result",
          "data": {
            "text/plain": [
              "{'units_1': 192,\n",
              " 'activation1': 'elu',\n",
              " 'num_layers': 15,\n",
              " 'units_0': 200,\n",
              " 'activation0': 'sigmoid',\n",
              " 'optimizers': 'adam',\n",
              " 'units_2': 216,\n",
              " 'activation2': 'elu',\n",
              " 'units_3': 456,\n",
              " 'activation3': 'elu',\n",
              " 'units_4': 288,\n",
              " 'activation4': 'relu',\n",
              " 'units_5': 256,\n",
              " 'activation5': 'elu',\n",
              " 'units_6': 504,\n",
              " 'activation6': 'sigmoid',\n",
              " 'units_7': 472,\n",
              " 'activation7': 'relu',\n",
              " 'units_8': 496,\n",
              " 'activation8': 'relu',\n",
              " 'units_9': 304,\n",
              " 'activation9': 'elu',\n",
              " 'units_10': 160,\n",
              " 'activation10': 'linear',\n",
              " 'units_11': 480,\n",
              " 'activation11': 'linear',\n",
              " 'units_12': 248,\n",
              " 'activation12': 'linear',\n",
              " 'units_13': 40,\n",
              " 'activation13': 'relu',\n",
              " 'units_14': 384,\n",
              " 'activation14': 'sigmoid',\n",
              " 'units_15': 472,\n",
              " 'activation15': 'elu',\n",
              " 'units_16': 40,\n",
              " 'activation16': 'elu',\n",
              " 'units_17': 448,\n",
              " 'activation17': 'linear',\n",
              " 'units_18': 192,\n",
              " 'activation18': 'sigmoid',\n",
              " 'units_19': 424,\n",
              " 'activation19': 'relu',\n",
              " 'units_20': 144,\n",
              " 'activation20': 'linear',\n",
              " 'units_21': 80,\n",
              " 'activation21': 'linear'}"
            ]
          },
          "metadata": {},
          "execution_count": 43
        }
      ],
      "source": [
        "tuner.get_best_hyperparameters()[0].values"
      ]
    },
    {
      "cell_type": "code",
      "execution_count": 44,
      "metadata": {
        "id": "W4-m_QJu7QgE"
      },
      "outputs": [],
      "source": [
        "model = tuner.get_best_models(num_models=1)[0]"
      ]
    },
    {
      "cell_type": "code",
      "execution_count": 45,
      "metadata": {
        "colab": {
          "base_uri": "https://localhost:8080/"
        },
        "id": "hNBLYuUA7QdY",
        "outputId": "bfa9a544-d1b5-40be-bfda-7540df685588"
      },
      "outputs": [
        {
          "output_type": "stream",
          "name": "stdout",
          "text": [
            "Epoch 6/100\n",
            "38/38 [==============================] - 7s 15ms/step - loss: 0.3074 - accuracy: 0.8907 - val_loss: 0.5041 - val_accuracy: 0.7960\n",
            "Epoch 7/100\n",
            "38/38 [==============================] - 0s 8ms/step - loss: 0.2951 - accuracy: 0.8727 - val_loss: 0.2289 - val_accuracy: 0.8920\n",
            "Epoch 8/100\n",
            "38/38 [==============================] - 0s 8ms/step - loss: 0.3018 - accuracy: 0.8933 - val_loss: 0.2726 - val_accuracy: 0.9200\n",
            "Epoch 9/100\n",
            "38/38 [==============================] - 0s 9ms/step - loss: 0.2852 - accuracy: 0.8947 - val_loss: 0.4616 - val_accuracy: 0.7700\n",
            "Epoch 10/100\n",
            "38/38 [==============================] - 0s 8ms/step - loss: 0.2778 - accuracy: 0.8900 - val_loss: 0.2483 - val_accuracy: 0.9060\n",
            "Epoch 11/100\n",
            "38/38 [==============================] - 0s 8ms/step - loss: 0.3482 - accuracy: 0.8820 - val_loss: 0.2490 - val_accuracy: 0.9040\n",
            "Epoch 12/100\n",
            "38/38 [==============================] - 0s 9ms/step - loss: 0.2175 - accuracy: 0.9220 - val_loss: 0.1613 - val_accuracy: 0.9260\n",
            "Epoch 13/100\n",
            "38/38 [==============================] - 0s 9ms/step - loss: 0.1799 - accuracy: 0.9300 - val_loss: 0.2453 - val_accuracy: 0.9060\n",
            "Epoch 14/100\n",
            "38/38 [==============================] - 0s 8ms/step - loss: 0.3508 - accuracy: 0.8787 - val_loss: 0.1834 - val_accuracy: 0.9380\n",
            "Epoch 15/100\n",
            "38/38 [==============================] - 0s 9ms/step - loss: 0.2141 - accuracy: 0.9360 - val_loss: 0.2618 - val_accuracy: 0.9020\n",
            "Epoch 16/100\n",
            "38/38 [==============================] - 0s 9ms/step - loss: 0.1749 - accuracy: 0.9387 - val_loss: 0.1633 - val_accuracy: 0.9300\n",
            "Epoch 17/100\n",
            "38/38 [==============================] - 0s 8ms/step - loss: 0.4281 - accuracy: 0.8380 - val_loss: 0.2157 - val_accuracy: 0.9200\n",
            "Epoch 18/100\n",
            "38/38 [==============================] - 0s 9ms/step - loss: 0.2316 - accuracy: 0.9207 - val_loss: 0.3342 - val_accuracy: 0.8760\n",
            "Epoch 19/100\n",
            "38/38 [==============================] - 0s 9ms/step - loss: 0.3083 - accuracy: 0.8880 - val_loss: 0.4068 - val_accuracy: 0.8540\n",
            "Epoch 20/100\n",
            "38/38 [==============================] - 0s 9ms/step - loss: 0.2370 - accuracy: 0.9173 - val_loss: 0.2946 - val_accuracy: 0.8940\n",
            "Epoch 21/100\n",
            "38/38 [==============================] - 0s 8ms/step - loss: 0.3376 - accuracy: 0.8827 - val_loss: 0.1818 - val_accuracy: 0.9460\n",
            "Epoch 22/100\n",
            "38/38 [==============================] - 0s 8ms/step - loss: 0.2521 - accuracy: 0.9073 - val_loss: 0.5097 - val_accuracy: 0.7960\n",
            "Epoch 23/100\n",
            "38/38 [==============================] - 0s 8ms/step - loss: 0.2658 - accuracy: 0.9080 - val_loss: 0.2230 - val_accuracy: 0.9320\n",
            "Epoch 24/100\n",
            "38/38 [==============================] - 0s 8ms/step - loss: 0.2753 - accuracy: 0.9007 - val_loss: 0.4201 - val_accuracy: 0.8040\n",
            "Epoch 25/100\n",
            "38/38 [==============================] - 0s 10ms/step - loss: 0.3903 - accuracy: 0.8487 - val_loss: 0.4340 - val_accuracy: 0.8120\n",
            "Epoch 26/100\n",
            "38/38 [==============================] - 0s 11ms/step - loss: 0.2343 - accuracy: 0.9253 - val_loss: 0.2698 - val_accuracy: 0.9040\n",
            "Epoch 27/100\n",
            "38/38 [==============================] - 0s 12ms/step - loss: 0.4584 - accuracy: 0.8153 - val_loss: 0.7536 - val_accuracy: 0.5820\n",
            "Epoch 28/100\n",
            "38/38 [==============================] - 1s 13ms/step - loss: 0.5901 - accuracy: 0.7400 - val_loss: 0.5169 - val_accuracy: 0.7780\n",
            "Epoch 29/100\n",
            "38/38 [==============================] - 0s 12ms/step - loss: 0.3656 - accuracy: 0.8613 - val_loss: 0.3264 - val_accuracy: 0.8820\n",
            "Epoch 30/100\n",
            "38/38 [==============================] - 0s 11ms/step - loss: 0.4950 - accuracy: 0.7480 - val_loss: 0.4643 - val_accuracy: 0.7660\n",
            "Epoch 31/100\n",
            "38/38 [==============================] - 0s 12ms/step - loss: 0.4377 - accuracy: 0.7713 - val_loss: 0.6690 - val_accuracy: 0.7280\n",
            "Epoch 32/100\n",
            "38/38 [==============================] - 0s 12ms/step - loss: 0.6112 - accuracy: 0.7407 - val_loss: 0.5186 - val_accuracy: 0.8200\n",
            "Epoch 33/100\n",
            "38/38 [==============================] - 0s 10ms/step - loss: 0.5670 - accuracy: 0.7633 - val_loss: 0.3772 - val_accuracy: 0.8800\n",
            "Epoch 34/100\n",
            "38/38 [==============================] - 0s 8ms/step - loss: 0.3124 - accuracy: 0.8980 - val_loss: 0.3985 - val_accuracy: 0.8700\n",
            "Epoch 35/100\n",
            "38/38 [==============================] - 0s 8ms/step - loss: 0.3398 - accuracy: 0.8740 - val_loss: 0.3390 - val_accuracy: 0.8900\n",
            "Epoch 36/100\n",
            "38/38 [==============================] - 0s 9ms/step - loss: 0.2755 - accuracy: 0.9193 - val_loss: 0.3497 - val_accuracy: 0.8740\n",
            "Epoch 37/100\n",
            "38/38 [==============================] - 0s 9ms/step - loss: 0.4915 - accuracy: 0.7953 - val_loss: 0.3770 - val_accuracy: 0.8740\n",
            "Epoch 38/100\n",
            "38/38 [==============================] - 0s 8ms/step - loss: 0.3348 - accuracy: 0.8687 - val_loss: 0.3431 - val_accuracy: 0.8800\n",
            "Epoch 39/100\n",
            "38/38 [==============================] - 0s 8ms/step - loss: 0.7410 - accuracy: 0.7067 - val_loss: 0.9632 - val_accuracy: 0.5880\n",
            "Epoch 40/100\n",
            "38/38 [==============================] - 0s 9ms/step - loss: 0.8943 - accuracy: 0.5587 - val_loss: 0.6893 - val_accuracy: 0.7420\n",
            "Epoch 41/100\n",
            "38/38 [==============================] - 0s 8ms/step - loss: 0.7608 - accuracy: 0.6653 - val_loss: 0.9431 - val_accuracy: 0.4880\n",
            "Epoch 42/100\n",
            "38/38 [==============================] - 0s 8ms/step - loss: 1.2605 - accuracy: 0.3993 - val_loss: 1.5140 - val_accuracy: 0.2640\n",
            "Epoch 43/100\n",
            "38/38 [==============================] - 0s 8ms/step - loss: 1.4572 - accuracy: 0.2580 - val_loss: 1.4254 - val_accuracy: 0.2640\n",
            "Epoch 44/100\n",
            "38/38 [==============================] - 0s 8ms/step - loss: 1.3982 - accuracy: 0.2420 - val_loss: 1.4084 - val_accuracy: 0.2360\n",
            "Epoch 45/100\n",
            "38/38 [==============================] - 0s 9ms/step - loss: 1.4012 - accuracy: 0.2447 - val_loss: 1.4054 - val_accuracy: 0.2600\n",
            "Epoch 46/100\n",
            "38/38 [==============================] - 0s 8ms/step - loss: 1.3978 - accuracy: 0.2313 - val_loss: 1.3943 - val_accuracy: 0.2400\n",
            "Epoch 47/100\n",
            "38/38 [==============================] - 0s 8ms/step - loss: 1.3991 - accuracy: 0.2560 - val_loss: 1.3954 - val_accuracy: 0.2360\n",
            "Epoch 48/100\n",
            "38/38 [==============================] - 0s 8ms/step - loss: 1.3980 - accuracy: 0.2553 - val_loss: 1.3904 - val_accuracy: 0.2360\n",
            "Epoch 49/100\n",
            "38/38 [==============================] - 0s 9ms/step - loss: 1.3984 - accuracy: 0.2320 - val_loss: 1.3920 - val_accuracy: 0.2600\n",
            "Epoch 50/100\n",
            "38/38 [==============================] - 0s 9ms/step - loss: 1.3975 - accuracy: 0.2380 - val_loss: 1.4030 - val_accuracy: 0.2400\n",
            "Epoch 51/100\n",
            "38/38 [==============================] - 0s 9ms/step - loss: 1.3994 - accuracy: 0.2327 - val_loss: 1.3963 - val_accuracy: 0.2360\n",
            "Epoch 52/100\n",
            "38/38 [==============================] - 0s 9ms/step - loss: 1.4031 - accuracy: 0.2353 - val_loss: 1.3892 - val_accuracy: 0.2640\n",
            "Epoch 53/100\n",
            "38/38 [==============================] - 0s 9ms/step - loss: 1.3966 - accuracy: 0.2440 - val_loss: 1.3933 - val_accuracy: 0.2400\n",
            "Epoch 54/100\n",
            "38/38 [==============================] - 0s 8ms/step - loss: 1.3944 - accuracy: 0.2473 - val_loss: 1.3939 - val_accuracy: 0.2360\n",
            "Epoch 55/100\n",
            "38/38 [==============================] - 0s 8ms/step - loss: 1.3966 - accuracy: 0.2427 - val_loss: 1.3931 - val_accuracy: 0.2640\n",
            "Epoch 56/100\n",
            "38/38 [==============================] - 0s 8ms/step - loss: 1.4094 - accuracy: 0.2487 - val_loss: 1.4311 - val_accuracy: 0.2360\n",
            "Epoch 57/100\n",
            "38/38 [==============================] - 0s 9ms/step - loss: 1.4008 - accuracy: 0.2660 - val_loss: 1.4068 - val_accuracy: 0.2400\n",
            "Epoch 58/100\n",
            "38/38 [==============================] - 0s 8ms/step - loss: 1.4059 - accuracy: 0.2473 - val_loss: 1.4030 - val_accuracy: 0.2360\n",
            "Epoch 59/100\n",
            "38/38 [==============================] - 0s 9ms/step - loss: 1.4076 - accuracy: 0.2453 - val_loss: 1.4018 - val_accuracy: 0.2640\n",
            "Epoch 60/100\n",
            "38/38 [==============================] - 0s 8ms/step - loss: 1.4019 - accuracy: 0.2500 - val_loss: 1.4068 - val_accuracy: 0.2400\n",
            "Epoch 61/100\n",
            "38/38 [==============================] - 0s 8ms/step - loss: 1.3919 - accuracy: 0.2487 - val_loss: 1.4047 - val_accuracy: 0.2400\n",
            "Epoch 62/100\n",
            "38/38 [==============================] - 0s 8ms/step - loss: 1.3968 - accuracy: 0.2487 - val_loss: 1.4059 - val_accuracy: 0.2400\n",
            "Epoch 63/100\n",
            "38/38 [==============================] - 0s 9ms/step - loss: 1.3932 - accuracy: 0.2520 - val_loss: 1.3950 - val_accuracy: 0.2640\n",
            "Epoch 64/100\n",
            "38/38 [==============================] - 0s 10ms/step - loss: 1.4037 - accuracy: 0.2593 - val_loss: 1.3946 - val_accuracy: 0.2400\n",
            "Epoch 65/100\n",
            "38/38 [==============================] - 0s 11ms/step - loss: 1.3948 - accuracy: 0.2380 - val_loss: 1.3879 - val_accuracy: 0.2600\n",
            "Epoch 66/100\n",
            "38/38 [==============================] - 0s 11ms/step - loss: 1.3987 - accuracy: 0.2680 - val_loss: 1.3905 - val_accuracy: 0.2600\n",
            "Epoch 67/100\n",
            "38/38 [==============================] - 0s 10ms/step - loss: 1.4029 - accuracy: 0.2507 - val_loss: 1.4273 - val_accuracy: 0.2360\n",
            "Epoch 68/100\n",
            "38/38 [==============================] - 0s 11ms/step - loss: 1.3962 - accuracy: 0.2540 - val_loss: 1.3916 - val_accuracy: 0.2400\n",
            "Epoch 69/100\n",
            "38/38 [==============================] - 0s 10ms/step - loss: 1.3948 - accuracy: 0.2413 - val_loss: 1.3867 - val_accuracy: 0.2400\n",
            "Epoch 70/100\n",
            "38/38 [==============================] - 0s 11ms/step - loss: 1.3910 - accuracy: 0.2600 - val_loss: 1.3930 - val_accuracy: 0.2360\n",
            "Epoch 71/100\n",
            "38/38 [==============================] - 0s 11ms/step - loss: 1.4067 - accuracy: 0.2320 - val_loss: 1.4126 - val_accuracy: 0.2360\n",
            "Epoch 72/100\n",
            "38/38 [==============================] - 0s 12ms/step - loss: 1.4008 - accuracy: 0.2547 - val_loss: 1.3910 - val_accuracy: 0.2400\n",
            "Epoch 73/100\n",
            "38/38 [==============================] - 0s 9ms/step - loss: 1.3957 - accuracy: 0.2500 - val_loss: 1.4014 - val_accuracy: 0.2360\n",
            "Epoch 74/100\n",
            "38/38 [==============================] - 0s 9ms/step - loss: 1.4023 - accuracy: 0.2453 - val_loss: 1.3885 - val_accuracy: 0.2640\n",
            "Epoch 75/100\n",
            "38/38 [==============================] - 0s 8ms/step - loss: 1.4049 - accuracy: 0.2567 - val_loss: 1.4079 - val_accuracy: 0.2640\n",
            "Epoch 76/100\n",
            "38/38 [==============================] - 0s 8ms/step - loss: 1.4044 - accuracy: 0.2407 - val_loss: 1.4065 - val_accuracy: 0.2400\n",
            "Epoch 77/100\n",
            "38/38 [==============================] - 0s 9ms/step - loss: 1.3950 - accuracy: 0.2433 - val_loss: 1.3883 - val_accuracy: 0.2360\n",
            "Epoch 78/100\n",
            "38/38 [==============================] - 0s 8ms/step - loss: 1.3955 - accuracy: 0.2320 - val_loss: 1.3872 - val_accuracy: 0.2640\n",
            "Epoch 79/100\n",
            "38/38 [==============================] - 0s 8ms/step - loss: 1.3944 - accuracy: 0.2653 - val_loss: 1.3969 - val_accuracy: 0.2400\n",
            "Epoch 80/100\n",
            "38/38 [==============================] - 0s 9ms/step - loss: 1.3984 - accuracy: 0.2420 - val_loss: 1.3917 - val_accuracy: 0.2360\n",
            "Epoch 81/100\n",
            "38/38 [==============================] - 0s 8ms/step - loss: 1.3955 - accuracy: 0.2460 - val_loss: 1.3900 - val_accuracy: 0.2600\n",
            "Epoch 82/100\n",
            "38/38 [==============================] - 0s 8ms/step - loss: 1.3934 - accuracy: 0.2500 - val_loss: 1.3878 - val_accuracy: 0.2400\n",
            "Epoch 83/100\n",
            "38/38 [==============================] - 0s 9ms/step - loss: 1.3963 - accuracy: 0.2267 - val_loss: 1.3965 - val_accuracy: 0.2400\n",
            "Epoch 84/100\n",
            "38/38 [==============================] - 0s 9ms/step - loss: 1.3951 - accuracy: 0.2553 - val_loss: 1.4014 - val_accuracy: 0.2400\n",
            "Epoch 85/100\n",
            "38/38 [==============================] - 0s 9ms/step - loss: 1.3983 - accuracy: 0.2300 - val_loss: 1.4055 - val_accuracy: 0.2360\n",
            "Epoch 86/100\n",
            "38/38 [==============================] - 0s 9ms/step - loss: 1.3977 - accuracy: 0.2473 - val_loss: 1.3907 - val_accuracy: 0.2400\n",
            "Epoch 87/100\n",
            "38/38 [==============================] - 0s 9ms/step - loss: 1.3939 - accuracy: 0.2700 - val_loss: 1.3899 - val_accuracy: 0.2600\n",
            "Epoch 88/100\n",
            "38/38 [==============================] - 0s 8ms/step - loss: 1.3943 - accuracy: 0.2300 - val_loss: 1.4095 - val_accuracy: 0.2640\n",
            "Epoch 89/100\n",
            "38/38 [==============================] - 0s 8ms/step - loss: 1.4003 - accuracy: 0.2460 - val_loss: 1.3980 - val_accuracy: 0.2600\n",
            "Epoch 90/100\n",
            "38/38 [==============================] - 0s 8ms/step - loss: 1.4030 - accuracy: 0.2507 - val_loss: 1.3937 - val_accuracy: 0.2360\n",
            "Epoch 91/100\n",
            "38/38 [==============================] - 0s 8ms/step - loss: 1.3914 - accuracy: 0.2467 - val_loss: 1.4043 - val_accuracy: 0.2400\n",
            "Epoch 92/100\n",
            "38/38 [==============================] - 0s 9ms/step - loss: 1.3995 - accuracy: 0.2380 - val_loss: 1.3960 - val_accuracy: 0.2400\n",
            "Epoch 93/100\n",
            "38/38 [==============================] - 0s 8ms/step - loss: 1.3918 - accuracy: 0.2507 - val_loss: 1.3995 - val_accuracy: 0.2360\n",
            "Epoch 94/100\n",
            "38/38 [==============================] - 0s 8ms/step - loss: 1.4008 - accuracy: 0.2393 - val_loss: 1.4090 - val_accuracy: 0.2400\n",
            "Epoch 95/100\n",
            "38/38 [==============================] - 0s 9ms/step - loss: 1.4002 - accuracy: 0.2353 - val_loss: 1.3888 - val_accuracy: 0.2640\n",
            "Epoch 96/100\n",
            "38/38 [==============================] - 0s 8ms/step - loss: 1.3963 - accuracy: 0.2440 - val_loss: 1.3971 - val_accuracy: 0.2600\n",
            "Epoch 97/100\n",
            "38/38 [==============================] - 0s 9ms/step - loss: 1.4000 - accuracy: 0.2320 - val_loss: 1.3868 - val_accuracy: 0.2600\n",
            "Epoch 98/100\n",
            "38/38 [==============================] - 0s 8ms/step - loss: 1.4016 - accuracy: 0.2427 - val_loss: 1.3918 - val_accuracy: 0.2600\n",
            "Epoch 99/100\n",
            "38/38 [==============================] - 0s 8ms/step - loss: 1.3984 - accuracy: 0.2540 - val_loss: 1.4108 - val_accuracy: 0.2640\n",
            "Epoch 100/100\n",
            "38/38 [==============================] - 0s 9ms/step - loss: 1.3925 - accuracy: 0.2520 - val_loss: 1.3958 - val_accuracy: 0.2640\n"
          ]
        }
      ],
      "source": [
        "final_model = model.fit(X_train, y_train,batch_size = 40, epochs=100, initial_epoch = 5, validation_data=(X_test, y_test))"
      ]
    },
    {
      "cell_type": "markdown",
      "source": [
        "since rmsprop opimizer giving good results so tune learning rates and drop-out for getting better results and avoid overfitting"
      ],
      "metadata": {
        "id": "SPl4JTrUvOie"
      }
    },
    {
      "cell_type": "code",
      "execution_count": 71,
      "metadata": {
        "id": "C9t_lzlQv9Zc"
      },
      "outputs": [],
      "source": [
        "def build_model(hp):\n",
        "  \n",
        "  model = Sequential()\n",
        "  model.add(\n",
        "      Dense(\n",
        "          hp.Int('units_1', min_value = 12, max_value= 300, step = 10 ),\n",
        "          hp.Choice('activation1', values=['relu','elu','linear','sigmoid','tanh']),\n",
        "          input_dim = 20\n",
        "      )\n",
        "  )    \n",
        "  for i in range(hp.Int('num_layers', min_value=2, max_value=30)):\n",
        "    model.add(\n",
        "        Dense(\n",
        "            hp.Int('units_'+str(i), min_value=8, max_value= 512, step = 8),\n",
        "            activation = hp.Choice('activation'+str(i), values=['relu','elu','linear','sigmoid','tanh'])\n",
        "        )\n",
        "    )\n",
        "\n",
        "  if hp.Boolean(\"dropout\"):\n",
        "      model.add(layers.Dropout(rate=0.25))\n",
        "\n",
        "  model.add(Dense(4, activation=\"softmax\"))\n",
        "  optimizers = keras.optimizers.RMSprop(learning_rate = hp.Float(\"lr\", min_value=1e-4, max_value=1e-2, sampling=\"log\"))\n",
        "  model.compile(optimizer=optimizers, loss=\"categorical_crossentropy\", metrics=[\"accuracy\"])\n",
        "  return model"
      ]
    },
    {
      "cell_type": "code",
      "execution_count": 72,
      "metadata": {
        "id": "uCKZUQxCwBIb"
      },
      "outputs": [],
      "source": [
        "tuner = RandomSearch(build_model, objective=\"val_accuracy\",\n",
        "    max_trials=5,\n",
        "    overwrite=True,\n",
        "    directory=\"my_dir\",\n",
        "    project_name=\"layers and units\")"
      ]
    },
    {
      "cell_type": "code",
      "execution_count": 73,
      "metadata": {
        "colab": {
          "base_uri": "https://localhost:8080/"
        },
        "outputId": "bf9fdf86-ec53-408b-889d-b88e44bf56e4",
        "id": "9-MtTYXgwF9m"
      },
      "outputs": [
        {
          "output_type": "stream",
          "name": "stdout",
          "text": [
            "Trial 5 Complete [00h 00m 07s]\n",
            "val_accuracy: 0.2666666805744171\n",
            "\n",
            "Best val_accuracy So Far: 0.8199999928474426\n",
            "Total elapsed time: 00h 00m 42s\n"
          ]
        }
      ],
      "source": [
        " tuner.search(X_train, y_train, epochs=5, validation_split=0.2)"
      ]
    },
    {
      "cell_type": "code",
      "execution_count": 74,
      "metadata": {
        "colab": {
          "base_uri": "https://localhost:8080/"
        },
        "id": "uqrIJ571wF9n",
        "outputId": "68283c46-8592-4c58-e7f7-9c283e5998d2"
      },
      "outputs": [
        {
          "output_type": "execute_result",
          "data": {
            "text/plain": [
              "{'units_1': 212,\n",
              " 'activation1': 'relu',\n",
              " 'num_layers': 5,\n",
              " 'units_0': 40,\n",
              " 'activation0': 'tanh',\n",
              " 'dropout': False,\n",
              " 'lr': 0.00012192715180060102,\n",
              " 'units_2': 448,\n",
              " 'activation2': 'sigmoid',\n",
              " 'units_3': 208,\n",
              " 'activation3': 'relu',\n",
              " 'units_4': 424,\n",
              " 'activation4': 'tanh',\n",
              " 'units_5': 56,\n",
              " 'activation5': 'sigmoid',\n",
              " 'units_6': 408,\n",
              " 'activation6': 'linear',\n",
              " 'units_7': 24,\n",
              " 'activation7': 'elu',\n",
              " 'units_8': 496,\n",
              " 'activation8': 'elu',\n",
              " 'units_9': 248,\n",
              " 'activation9': 'elu',\n",
              " 'units_10': 48,\n",
              " 'activation10': 'sigmoid',\n",
              " 'units_11': 472,\n",
              " 'activation11': 'elu',\n",
              " 'units_12': 360,\n",
              " 'activation12': 'relu',\n",
              " 'units_13': 264,\n",
              " 'activation13': 'relu',\n",
              " 'units_14': 480,\n",
              " 'activation14': 'sigmoid',\n",
              " 'units_15': 360,\n",
              " 'activation15': 'linear',\n",
              " 'units_16': 248,\n",
              " 'activation16': 'linear',\n",
              " 'units_17': 440,\n",
              " 'activation17': 'sigmoid',\n",
              " 'units_18': 112,\n",
              " 'activation18': 'elu',\n",
              " 'units_19': 424,\n",
              " 'activation19': 'linear',\n",
              " 'units_20': 352,\n",
              " 'activation20': 'relu'}"
            ]
          },
          "metadata": {},
          "execution_count": 74
        }
      ],
      "source": [
        "tuner.get_best_hyperparameters()[0].values"
      ]
    },
    {
      "cell_type": "code",
      "execution_count": 75,
      "metadata": {
        "id": "e4_cCTfzwF9o"
      },
      "outputs": [],
      "source": [
        "model = tuner.get_best_models(num_models=1)[0]"
      ]
    },
    {
      "cell_type": "code",
      "execution_count": 76,
      "metadata": {
        "colab": {
          "base_uri": "https://localhost:8080/"
        },
        "outputId": "0bfc9c98-0906-44dc-9b95-443fb7bfe024",
        "id": "YIJtbqN_wF9o"
      },
      "outputs": [
        {
          "output_type": "stream",
          "name": "stdout",
          "text": [
            "Epoch 6/100\n",
            "30/30 [==============================] - 2s 11ms/step - loss: 0.5717 - accuracy: 0.8375 - val_loss: 0.5430 - val_accuracy: 0.8367\n",
            "Epoch 7/100\n",
            "30/30 [==============================] - 0s 5ms/step - loss: 0.4547 - accuracy: 0.8758 - val_loss: 0.4554 - val_accuracy: 0.8467\n",
            "Epoch 8/100\n",
            "30/30 [==============================] - 0s 5ms/step - loss: 0.3649 - accuracy: 0.8992 - val_loss: 0.3721 - val_accuracy: 0.8767\n",
            "Epoch 9/100\n",
            "30/30 [==============================] - 0s 5ms/step - loss: 0.3116 - accuracy: 0.9025 - val_loss: 0.3893 - val_accuracy: 0.8267\n",
            "Epoch 10/100\n",
            "30/30 [==============================] - 0s 5ms/step - loss: 0.2721 - accuracy: 0.9183 - val_loss: 0.3156 - val_accuracy: 0.8933\n",
            "Epoch 11/100\n",
            "30/30 [==============================] - 0s 5ms/step - loss: 0.2395 - accuracy: 0.9158 - val_loss: 0.2796 - val_accuracy: 0.9100\n",
            "Epoch 12/100\n",
            "30/30 [==============================] - 0s 5ms/step - loss: 0.2049 - accuracy: 0.9358 - val_loss: 0.2597 - val_accuracy: 0.9067\n",
            "Epoch 13/100\n",
            "30/30 [==============================] - 0s 5ms/step - loss: 0.1860 - accuracy: 0.9425 - val_loss: 0.2625 - val_accuracy: 0.8967\n",
            "Epoch 14/100\n",
            "30/30 [==============================] - 0s 5ms/step - loss: 0.1762 - accuracy: 0.9433 - val_loss: 0.2486 - val_accuracy: 0.9133\n",
            "Epoch 15/100\n",
            "30/30 [==============================] - 0s 5ms/step - loss: 0.1567 - accuracy: 0.9475 - val_loss: 0.2536 - val_accuracy: 0.9033\n",
            "Epoch 16/100\n",
            "30/30 [==============================] - 0s 6ms/step - loss: 0.1438 - accuracy: 0.9525 - val_loss: 0.2461 - val_accuracy: 0.8967\n",
            "Epoch 17/100\n",
            "30/30 [==============================] - 0s 5ms/step - loss: 0.1289 - accuracy: 0.9600 - val_loss: 0.2494 - val_accuracy: 0.8967\n",
            "Epoch 18/100\n",
            "30/30 [==============================] - 0s 5ms/step - loss: 0.1240 - accuracy: 0.9533 - val_loss: 0.2346 - val_accuracy: 0.9167\n",
            "Epoch 19/100\n",
            "30/30 [==============================] - 0s 8ms/step - loss: 0.1089 - accuracy: 0.9658 - val_loss: 0.2345 - val_accuracy: 0.9133\n",
            "Epoch 20/100\n",
            "30/30 [==============================] - 0s 9ms/step - loss: 0.0964 - accuracy: 0.9725 - val_loss: 0.2538 - val_accuracy: 0.9100\n",
            "Epoch 21/100\n",
            "30/30 [==============================] - 0s 9ms/step - loss: 0.0905 - accuracy: 0.9725 - val_loss: 0.2308 - val_accuracy: 0.9033\n",
            "Epoch 22/100\n",
            "30/30 [==============================] - 0s 7ms/step - loss: 0.0820 - accuracy: 0.9733 - val_loss: 0.2427 - val_accuracy: 0.9133\n",
            "Epoch 23/100\n",
            "30/30 [==============================] - 0s 8ms/step - loss: 0.0741 - accuracy: 0.9800 - val_loss: 0.2379 - val_accuracy: 0.9200\n",
            "Epoch 24/100\n",
            "30/30 [==============================] - 0s 8ms/step - loss: 0.0664 - accuracy: 0.9842 - val_loss: 0.2442 - val_accuracy: 0.9133\n",
            "Epoch 25/100\n",
            "30/30 [==============================] - 0s 7ms/step - loss: 0.0617 - accuracy: 0.9875 - val_loss: 0.2643 - val_accuracy: 0.9100\n",
            "Epoch 26/100\n",
            "30/30 [==============================] - 0s 7ms/step - loss: 0.0566 - accuracy: 0.9817 - val_loss: 0.2418 - val_accuracy: 0.9133\n",
            "Epoch 27/100\n",
            "30/30 [==============================] - 0s 8ms/step - loss: 0.0572 - accuracy: 0.9842 - val_loss: 0.2480 - val_accuracy: 0.9067\n",
            "Epoch 28/100\n",
            "30/30 [==============================] - 0s 8ms/step - loss: 0.0448 - accuracy: 0.9933 - val_loss: 0.2495 - val_accuracy: 0.9200\n",
            "Epoch 29/100\n",
            "30/30 [==============================] - 0s 8ms/step - loss: 0.0407 - accuracy: 0.9917 - val_loss: 0.2518 - val_accuracy: 0.9167\n",
            "Epoch 30/100\n",
            "30/30 [==============================] - 0s 7ms/step - loss: 0.0390 - accuracy: 0.9933 - val_loss: 0.2821 - val_accuracy: 0.9167\n",
            "Epoch 31/100\n",
            "30/30 [==============================] - 0s 9ms/step - loss: 0.0347 - accuracy: 0.9908 - val_loss: 0.2555 - val_accuracy: 0.9167\n",
            "Epoch 32/100\n",
            "30/30 [==============================] - 0s 8ms/step - loss: 0.0302 - accuracy: 0.9950 - val_loss: 0.2726 - val_accuracy: 0.9200\n",
            "Epoch 33/100\n",
            "30/30 [==============================] - 0s 7ms/step - loss: 0.0254 - accuracy: 0.9967 - val_loss: 0.2768 - val_accuracy: 0.9200\n",
            "Epoch 34/100\n",
            "30/30 [==============================] - 0s 6ms/step - loss: 0.0258 - accuracy: 0.9983 - val_loss: 0.2741 - val_accuracy: 0.9200\n",
            "Epoch 35/100\n",
            "30/30 [==============================] - 0s 5ms/step - loss: 0.0180 - accuracy: 0.9992 - val_loss: 0.2941 - val_accuracy: 0.9200\n",
            "Epoch 36/100\n",
            "30/30 [==============================] - 0s 5ms/step - loss: 0.0169 - accuracy: 0.9992 - val_loss: 0.3168 - val_accuracy: 0.9100\n",
            "Epoch 37/100\n",
            "30/30 [==============================] - 0s 5ms/step - loss: 0.0164 - accuracy: 0.9983 - val_loss: 0.3184 - val_accuracy: 0.9200\n",
            "Epoch 38/100\n",
            "30/30 [==============================] - 0s 5ms/step - loss: 0.0153 - accuracy: 0.9967 - val_loss: 0.2974 - val_accuracy: 0.9133\n",
            "Epoch 39/100\n",
            "30/30 [==============================] - 0s 6ms/step - loss: 0.0105 - accuracy: 0.9992 - val_loss: 0.3076 - val_accuracy: 0.9167\n",
            "Epoch 40/100\n",
            "30/30 [==============================] - 0s 6ms/step - loss: 0.0105 - accuracy: 0.9992 - val_loss: 0.3161 - val_accuracy: 0.9200\n",
            "Epoch 41/100\n",
            "30/30 [==============================] - 0s 5ms/step - loss: 0.0120 - accuracy: 0.9975 - val_loss: 0.3354 - val_accuracy: 0.9200\n",
            "Epoch 42/100\n",
            "30/30 [==============================] - 0s 5ms/step - loss: 0.0061 - accuracy: 1.0000 - val_loss: 0.3301 - val_accuracy: 0.9200\n",
            "Epoch 43/100\n",
            "30/30 [==============================] - 0s 5ms/step - loss: 0.0074 - accuracy: 0.9992 - val_loss: 0.3566 - val_accuracy: 0.9267\n",
            "Epoch 44/100\n",
            "30/30 [==============================] - 0s 5ms/step - loss: 0.0061 - accuracy: 0.9992 - val_loss: 0.3318 - val_accuracy: 0.9267\n",
            "Epoch 45/100\n",
            "30/30 [==============================] - 0s 5ms/step - loss: 0.0043 - accuracy: 1.0000 - val_loss: 0.3294 - val_accuracy: 0.9233\n",
            "Epoch 46/100\n",
            "30/30 [==============================] - 0s 5ms/step - loss: 0.0055 - accuracy: 1.0000 - val_loss: 0.3744 - val_accuracy: 0.9167\n",
            "Epoch 47/100\n",
            "30/30 [==============================] - 0s 5ms/step - loss: 0.0039 - accuracy: 1.0000 - val_loss: 0.3735 - val_accuracy: 0.9200\n",
            "Epoch 48/100\n",
            "30/30 [==============================] - 0s 5ms/step - loss: 0.0042 - accuracy: 0.9992 - val_loss: 0.3979 - val_accuracy: 0.9167\n",
            "Epoch 49/100\n",
            "30/30 [==============================] - 0s 5ms/step - loss: 0.0040 - accuracy: 0.9983 - val_loss: 0.3530 - val_accuracy: 0.9233\n",
            "Epoch 50/100\n",
            "30/30 [==============================] - 0s 5ms/step - loss: 0.0037 - accuracy: 1.0000 - val_loss: 0.3732 - val_accuracy: 0.9100\n",
            "Epoch 51/100\n",
            "30/30 [==============================] - 0s 5ms/step - loss: 0.0015 - accuracy: 1.0000 - val_loss: 0.3607 - val_accuracy: 0.9133\n",
            "Epoch 52/100\n",
            "30/30 [==============================] - 0s 6ms/step - loss: 0.0024 - accuracy: 1.0000 - val_loss: 0.3839 - val_accuracy: 0.9167\n",
            "Epoch 53/100\n",
            "30/30 [==============================] - 0s 5ms/step - loss: 0.0013 - accuracy: 1.0000 - val_loss: 0.3828 - val_accuracy: 0.9133\n",
            "Epoch 54/100\n",
            "30/30 [==============================] - 0s 5ms/step - loss: 0.0013 - accuracy: 1.0000 - val_loss: 0.3890 - val_accuracy: 0.9167\n",
            "Epoch 55/100\n",
            "30/30 [==============================] - 0s 6ms/step - loss: 0.0026 - accuracy: 1.0000 - val_loss: 0.3851 - val_accuracy: 0.9200\n",
            "Epoch 56/100\n",
            "30/30 [==============================] - 0s 6ms/step - loss: 9.9914e-04 - accuracy: 1.0000 - val_loss: 0.3982 - val_accuracy: 0.9267\n",
            "Epoch 57/100\n",
            "30/30 [==============================] - 0s 5ms/step - loss: 9.8788e-04 - accuracy: 1.0000 - val_loss: 0.3832 - val_accuracy: 0.9167\n",
            "Epoch 58/100\n",
            "30/30 [==============================] - 0s 5ms/step - loss: 6.5337e-04 - accuracy: 1.0000 - val_loss: 0.3966 - val_accuracy: 0.9300\n",
            "Epoch 59/100\n",
            "30/30 [==============================] - 0s 5ms/step - loss: 0.0014 - accuracy: 1.0000 - val_loss: 0.4158 - val_accuracy: 0.9200\n",
            "Epoch 60/100\n",
            "30/30 [==============================] - 0s 5ms/step - loss: 5.4954e-04 - accuracy: 1.0000 - val_loss: 0.4015 - val_accuracy: 0.9167\n",
            "Epoch 61/100\n",
            "30/30 [==============================] - 0s 5ms/step - loss: 4.5909e-04 - accuracy: 1.0000 - val_loss: 0.4068 - val_accuracy: 0.9233\n",
            "Epoch 62/100\n",
            "30/30 [==============================] - 0s 5ms/step - loss: 5.0264e-04 - accuracy: 1.0000 - val_loss: 0.4212 - val_accuracy: 0.9200\n",
            "Epoch 63/100\n",
            "30/30 [==============================] - 0s 5ms/step - loss: 3.4885e-04 - accuracy: 1.0000 - val_loss: 0.4195 - val_accuracy: 0.9133\n",
            "Epoch 64/100\n",
            "30/30 [==============================] - 0s 5ms/step - loss: 3.6983e-04 - accuracy: 1.0000 - val_loss: 0.4174 - val_accuracy: 0.9233\n",
            "Epoch 65/100\n",
            "30/30 [==============================] - 0s 5ms/step - loss: 2.9991e-04 - accuracy: 1.0000 - val_loss: 0.4189 - val_accuracy: 0.9233\n",
            "Epoch 66/100\n",
            "30/30 [==============================] - 0s 5ms/step - loss: 2.7111e-04 - accuracy: 1.0000 - val_loss: 0.4254 - val_accuracy: 0.9200\n",
            "Epoch 67/100\n",
            "30/30 [==============================] - 0s 5ms/step - loss: 2.5025e-04 - accuracy: 1.0000 - val_loss: 0.4325 - val_accuracy: 0.9200\n",
            "Epoch 68/100\n",
            "30/30 [==============================] - 0s 5ms/step - loss: 2.1312e-04 - accuracy: 1.0000 - val_loss: 0.4322 - val_accuracy: 0.9167\n",
            "Epoch 69/100\n",
            "30/30 [==============================] - 0s 5ms/step - loss: 1.9194e-04 - accuracy: 1.0000 - val_loss: 0.4350 - val_accuracy: 0.9267\n",
            "Epoch 70/100\n",
            "30/30 [==============================] - 0s 5ms/step - loss: 1.8406e-04 - accuracy: 1.0000 - val_loss: 0.4356 - val_accuracy: 0.9200\n",
            "Epoch 71/100\n",
            "30/30 [==============================] - 0s 5ms/step - loss: 1.6933e-04 - accuracy: 1.0000 - val_loss: 0.4425 - val_accuracy: 0.9200\n",
            "Epoch 72/100\n",
            "30/30 [==============================] - 0s 7ms/step - loss: 1.5868e-04 - accuracy: 1.0000 - val_loss: 0.4379 - val_accuracy: 0.9167\n",
            "Epoch 73/100\n",
            "30/30 [==============================] - 0s 5ms/step - loss: 1.4351e-04 - accuracy: 1.0000 - val_loss: 0.4488 - val_accuracy: 0.9167\n",
            "Epoch 74/100\n",
            "30/30 [==============================] - 0s 5ms/step - loss: 1.3549e-04 - accuracy: 1.0000 - val_loss: 0.4370 - val_accuracy: 0.9133\n",
            "Epoch 75/100\n",
            "30/30 [==============================] - 0s 5ms/step - loss: 1.2910e-04 - accuracy: 1.0000 - val_loss: 0.4393 - val_accuracy: 0.9200\n",
            "Epoch 76/100\n",
            "30/30 [==============================] - 0s 7ms/step - loss: 1.2338e-04 - accuracy: 1.0000 - val_loss: 0.4527 - val_accuracy: 0.9200\n",
            "Epoch 77/100\n",
            "30/30 [==============================] - 0s 5ms/step - loss: 1.1418e-04 - accuracy: 1.0000 - val_loss: 0.4513 - val_accuracy: 0.9167\n",
            "Epoch 78/100\n",
            "30/30 [==============================] - 0s 6ms/step - loss: 1.1095e-04 - accuracy: 1.0000 - val_loss: 0.4482 - val_accuracy: 0.9167\n",
            "Epoch 79/100\n",
            "30/30 [==============================] - 0s 5ms/step - loss: 1.0419e-04 - accuracy: 1.0000 - val_loss: 0.4508 - val_accuracy: 0.9167\n",
            "Epoch 80/100\n",
            "30/30 [==============================] - 0s 5ms/step - loss: 1.0139e-04 - accuracy: 1.0000 - val_loss: 0.4543 - val_accuracy: 0.9200\n",
            "Epoch 81/100\n",
            "30/30 [==============================] - 0s 5ms/step - loss: 9.5718e-05 - accuracy: 1.0000 - val_loss: 0.4528 - val_accuracy: 0.9167\n",
            "Epoch 82/100\n",
            "30/30 [==============================] - 0s 5ms/step - loss: 9.2422e-05 - accuracy: 1.0000 - val_loss: 0.4566 - val_accuracy: 0.9167\n",
            "Epoch 83/100\n",
            "30/30 [==============================] - 0s 6ms/step - loss: 8.7104e-05 - accuracy: 1.0000 - val_loss: 0.4643 - val_accuracy: 0.9133\n",
            "Epoch 84/100\n",
            "30/30 [==============================] - 0s 5ms/step - loss: 8.4690e-05 - accuracy: 1.0000 - val_loss: 0.4611 - val_accuracy: 0.9133\n",
            "Epoch 85/100\n",
            "30/30 [==============================] - 0s 5ms/step - loss: 8.1293e-05 - accuracy: 1.0000 - val_loss: 0.4604 - val_accuracy: 0.9167\n",
            "Epoch 86/100\n",
            "30/30 [==============================] - 0s 5ms/step - loss: 7.8739e-05 - accuracy: 1.0000 - val_loss: 0.4616 - val_accuracy: 0.9133\n",
            "Epoch 87/100\n",
            "30/30 [==============================] - 0s 5ms/step - loss: 7.6447e-05 - accuracy: 1.0000 - val_loss: 0.4641 - val_accuracy: 0.9133\n",
            "Epoch 88/100\n",
            "30/30 [==============================] - 0s 5ms/step - loss: 7.4213e-05 - accuracy: 1.0000 - val_loss: 0.4654 - val_accuracy: 0.9167\n",
            "Epoch 89/100\n",
            "30/30 [==============================] - 0s 6ms/step - loss: 7.1152e-05 - accuracy: 1.0000 - val_loss: 0.4662 - val_accuracy: 0.9133\n",
            "Epoch 90/100\n",
            "30/30 [==============================] - 0s 5ms/step - loss: 6.8739e-05 - accuracy: 1.0000 - val_loss: 0.4696 - val_accuracy: 0.9133\n",
            "Epoch 91/100\n",
            "30/30 [==============================] - 0s 5ms/step - loss: 6.6632e-05 - accuracy: 1.0000 - val_loss: 0.4699 - val_accuracy: 0.9167\n",
            "Epoch 92/100\n",
            "30/30 [==============================] - 0s 6ms/step - loss: 6.4698e-05 - accuracy: 1.0000 - val_loss: 0.4689 - val_accuracy: 0.9167\n",
            "Epoch 93/100\n",
            "30/30 [==============================] - 0s 5ms/step - loss: 6.2573e-05 - accuracy: 1.0000 - val_loss: 0.4660 - val_accuracy: 0.9133\n",
            "Epoch 94/100\n",
            "30/30 [==============================] - 0s 9ms/step - loss: 6.1193e-05 - accuracy: 1.0000 - val_loss: 0.4715 - val_accuracy: 0.9167\n",
            "Epoch 95/100\n",
            "30/30 [==============================] - 0s 9ms/step - loss: 6.0268e-05 - accuracy: 1.0000 - val_loss: 0.4725 - val_accuracy: 0.9167\n",
            "Epoch 96/100\n",
            "30/30 [==============================] - 0s 9ms/step - loss: 5.7737e-05 - accuracy: 1.0000 - val_loss: 0.4749 - val_accuracy: 0.9133\n",
            "Epoch 97/100\n",
            "30/30 [==============================] - 0s 8ms/step - loss: 5.6502e-05 - accuracy: 1.0000 - val_loss: 0.4724 - val_accuracy: 0.9167\n",
            "Epoch 98/100\n",
            "30/30 [==============================] - 0s 10ms/step - loss: 5.4791e-05 - accuracy: 1.0000 - val_loss: 0.4753 - val_accuracy: 0.9133\n",
            "Epoch 99/100\n",
            "30/30 [==============================] - 0s 8ms/step - loss: 5.3559e-05 - accuracy: 1.0000 - val_loss: 0.4744 - val_accuracy: 0.9167\n",
            "Epoch 100/100\n",
            "30/30 [==============================] - 0s 8ms/step - loss: 5.2669e-05 - accuracy: 1.0000 - val_loss: 0.4748 - val_accuracy: 0.9167\n"
          ]
        }
      ],
      "source": [
        "final_model = model.fit(X_train, y_train,batch_size = 40, epochs=100, initial_epoch = 5, validation_split=0.2)"
      ]
    },
    {
      "cell_type": "code",
      "execution_count": 77,
      "metadata": {
        "id": "wzPp1yJK7QV3"
      },
      "outputs": [],
      "source": [
        "model.build()"
      ]
    },
    {
      "cell_type": "code",
      "execution_count": 78,
      "metadata": {
        "id": "e4lNhOBH7QR3",
        "colab": {
          "base_uri": "https://localhost:8080/"
        },
        "outputId": "f034eacd-e404-4d08-f289-e55b9a4c7e67"
      },
      "outputs": [
        {
          "output_type": "stream",
          "name": "stdout",
          "text": [
            "Model: \"sequential\"\n",
            "_________________________________________________________________\n",
            " Layer (type)                Output Shape              Param #   \n",
            "=================================================================\n",
            " dense (Dense)               (None, 212)               4452      \n",
            "                                                                 \n",
            " dense_1 (Dense)             (None, 40)                8520      \n",
            "                                                                 \n",
            " dense_2 (Dense)             (None, 212)               8692      \n",
            "                                                                 \n",
            " dense_3 (Dense)             (None, 448)               95424     \n",
            "                                                                 \n",
            " dense_4 (Dense)             (None, 208)               93392     \n",
            "                                                                 \n",
            " dense_5 (Dense)             (None, 424)               88616     \n",
            "                                                                 \n",
            " dense_6 (Dense)             (None, 4)                 1700      \n",
            "                                                                 \n",
            "=================================================================\n",
            "Total params: 300,796\n",
            "Trainable params: 300,796\n",
            "Non-trainable params: 0\n",
            "_________________________________________________________________\n"
          ]
        }
      ],
      "source": [
        "model.summary()"
      ]
    },
    {
      "cell_type": "code",
      "source": [
        "tuner.results_summary()"
      ],
      "metadata": {
        "colab": {
          "base_uri": "https://localhost:8080/"
        },
        "id": "eIVgSoTV4b5o",
        "outputId": "817faf4d-7d5c-4b62-a234-709148177498"
      },
      "execution_count": 79,
      "outputs": [
        {
          "output_type": "stream",
          "name": "stdout",
          "text": [
            "Results summary\n",
            "Results in my_dir/layers and units\n",
            "Showing 10 best trials\n",
            "Objective(name=\"val_accuracy\", direction=\"max\")\n",
            "\n",
            "Trial 3 summary\n",
            "Hyperparameters:\n",
            "units_1: 212\n",
            "activation1: relu\n",
            "num_layers: 5\n",
            "units_0: 40\n",
            "activation0: tanh\n",
            "dropout: False\n",
            "lr: 0.00012192715180060102\n",
            "units_2: 448\n",
            "activation2: sigmoid\n",
            "units_3: 208\n",
            "activation3: relu\n",
            "units_4: 424\n",
            "activation4: tanh\n",
            "units_5: 56\n",
            "activation5: sigmoid\n",
            "units_6: 408\n",
            "activation6: linear\n",
            "units_7: 24\n",
            "activation7: elu\n",
            "units_8: 496\n",
            "activation8: elu\n",
            "units_9: 248\n",
            "activation9: elu\n",
            "units_10: 48\n",
            "activation10: sigmoid\n",
            "units_11: 472\n",
            "activation11: elu\n",
            "units_12: 360\n",
            "activation12: relu\n",
            "units_13: 264\n",
            "activation13: relu\n",
            "units_14: 480\n",
            "activation14: sigmoid\n",
            "units_15: 360\n",
            "activation15: linear\n",
            "units_16: 248\n",
            "activation16: linear\n",
            "units_17: 440\n",
            "activation17: sigmoid\n",
            "units_18: 112\n",
            "activation18: elu\n",
            "units_19: 424\n",
            "activation19: linear\n",
            "units_20: 352\n",
            "activation20: relu\n",
            "Score: 0.8199999928474426\n",
            "\n",
            "Trial 1 summary\n",
            "Hyperparameters:\n",
            "units_1: 242\n",
            "activation1: linear\n",
            "num_layers: 17\n",
            "units_0: 328\n",
            "activation0: sigmoid\n",
            "dropout: False\n",
            "lr: 0.00012310298544528832\n",
            "units_2: 496\n",
            "activation2: relu\n",
            "units_3: 248\n",
            "activation3: linear\n",
            "units_4: 224\n",
            "activation4: elu\n",
            "units_5: 16\n",
            "activation5: elu\n",
            "units_6: 88\n",
            "activation6: linear\n",
            "units_7: 264\n",
            "activation7: tanh\n",
            "units_8: 48\n",
            "activation8: linear\n",
            "units_9: 64\n",
            "activation9: linear\n",
            "units_10: 176\n",
            "activation10: sigmoid\n",
            "units_11: 280\n",
            "activation11: relu\n",
            "units_12: 104\n",
            "activation12: elu\n",
            "units_13: 392\n",
            "activation13: elu\n",
            "units_14: 304\n",
            "activation14: sigmoid\n",
            "units_15: 120\n",
            "activation15: relu\n",
            "units_16: 184\n",
            "activation16: relu\n",
            "units_17: 320\n",
            "activation17: relu\n",
            "units_18: 80\n",
            "activation18: relu\n",
            "units_19: 152\n",
            "activation19: sigmoid\n",
            "units_20: 304\n",
            "activation20: elu\n",
            "Score: 0.2666666805744171\n",
            "\n",
            "Trial 2 summary\n",
            "Hyperparameters:\n",
            "units_1: 32\n",
            "activation1: linear\n",
            "num_layers: 16\n",
            "units_0: 24\n",
            "activation0: sigmoid\n",
            "dropout: True\n",
            "lr: 0.0069108517839247645\n",
            "units_2: 8\n",
            "activation2: tanh\n",
            "units_3: 496\n",
            "activation3: linear\n",
            "units_4: 88\n",
            "activation4: linear\n",
            "units_5: 72\n",
            "activation5: relu\n",
            "units_6: 304\n",
            "activation6: linear\n",
            "units_7: 136\n",
            "activation7: sigmoid\n",
            "units_8: 360\n",
            "activation8: linear\n",
            "units_9: 56\n",
            "activation9: linear\n",
            "units_10: 408\n",
            "activation10: linear\n",
            "units_11: 224\n",
            "activation11: relu\n",
            "units_12: 248\n",
            "activation12: tanh\n",
            "units_13: 112\n",
            "activation13: elu\n",
            "units_14: 424\n",
            "activation14: tanh\n",
            "units_15: 272\n",
            "activation15: relu\n",
            "units_16: 24\n",
            "activation16: elu\n",
            "units_17: 440\n",
            "activation17: linear\n",
            "units_18: 232\n",
            "activation18: tanh\n",
            "units_19: 488\n",
            "activation19: tanh\n",
            "units_20: 328\n",
            "activation20: linear\n",
            "Score: 0.2666666805744171\n",
            "\n",
            "Trial 4 summary\n",
            "Hyperparameters:\n",
            "units_1: 132\n",
            "activation1: linear\n",
            "num_layers: 13\n",
            "units_0: 216\n",
            "activation0: sigmoid\n",
            "dropout: True\n",
            "lr: 0.0001251881894950073\n",
            "units_2: 408\n",
            "activation2: relu\n",
            "units_3: 48\n",
            "activation3: elu\n",
            "units_4: 504\n",
            "activation4: sigmoid\n",
            "units_5: 296\n",
            "activation5: tanh\n",
            "units_6: 352\n",
            "activation6: linear\n",
            "units_7: 408\n",
            "activation7: sigmoid\n",
            "units_8: 280\n",
            "activation8: tanh\n",
            "units_9: 480\n",
            "activation9: relu\n",
            "units_10: 144\n",
            "activation10: elu\n",
            "units_11: 88\n",
            "activation11: relu\n",
            "units_12: 200\n",
            "activation12: tanh\n",
            "units_13: 88\n",
            "activation13: sigmoid\n",
            "units_14: 120\n",
            "activation14: linear\n",
            "units_15: 320\n",
            "activation15: elu\n",
            "units_16: 440\n",
            "activation16: relu\n",
            "units_17: 416\n",
            "activation17: linear\n",
            "units_18: 488\n",
            "activation18: sigmoid\n",
            "units_19: 80\n",
            "activation19: sigmoid\n",
            "units_20: 16\n",
            "activation20: tanh\n",
            "Score: 0.2666666805744171\n",
            "\n",
            "Trial 0 summary\n",
            "Hyperparameters:\n",
            "units_1: 162\n",
            "activation1: relu\n",
            "num_layers: 21\n",
            "units_0: 264\n",
            "activation0: elu\n",
            "dropout: True\n",
            "lr: 0.0002353664033049617\n",
            "units_2: 8\n",
            "activation2: relu\n",
            "units_3: 8\n",
            "activation3: relu\n",
            "units_4: 8\n",
            "activation4: relu\n",
            "units_5: 8\n",
            "activation5: relu\n",
            "units_6: 8\n",
            "activation6: relu\n",
            "units_7: 8\n",
            "activation7: relu\n",
            "units_8: 8\n",
            "activation8: relu\n",
            "units_9: 8\n",
            "activation9: relu\n",
            "units_10: 8\n",
            "activation10: relu\n",
            "units_11: 8\n",
            "activation11: relu\n",
            "units_12: 8\n",
            "activation12: relu\n",
            "units_13: 8\n",
            "activation13: relu\n",
            "units_14: 8\n",
            "activation14: relu\n",
            "units_15: 8\n",
            "activation15: relu\n",
            "units_16: 8\n",
            "activation16: relu\n",
            "units_17: 8\n",
            "activation17: relu\n",
            "units_18: 8\n",
            "activation18: relu\n",
            "units_19: 8\n",
            "activation19: relu\n",
            "units_20: 8\n",
            "activation20: relu\n",
            "Score: 0.25333333015441895\n"
          ]
        }
      ]
    },
    {
      "cell_type": "code",
      "source": [
        "# model = build_model(tuner.get_best_hyperparameters(5)[0])\n",
        "# x_all = np.concatenate((X_train, X_test))\n",
        "# y_all = np.concatenate((y_train, y_test))\n",
        "# model.fit(x=x_all, y=y_all, epochs=1)\n"
      ],
      "metadata": {
        "id": "Lcy_lnZM4xEA"
      },
      "execution_count": null,
      "outputs": []
    },
    {
      "cell_type": "markdown",
      "source": [
        "Before using this the model accuracy was 89.4% after combining all hyper parameter will whole dataset we got 91%"
      ],
      "metadata": {
        "id": "XssPTatX-7X7"
      }
    },
    {
      "cell_type": "code",
      "source": [
        "pred = model.predict(X_test)\n",
        "pred"
      ],
      "metadata": {
        "colab": {
          "base_uri": "https://localhost:8080/"
        },
        "id": "jhx2svqM5TS3",
        "outputId": "eefe217c-42a6-4d6a-e06a-c23647bdcf8c"
      },
      "execution_count": 80,
      "outputs": [
        {
          "output_type": "stream",
          "name": "stdout",
          "text": [
            "16/16 [==============================] - 0s 2ms/step\n"
          ]
        },
        {
          "output_type": "execute_result",
          "data": {
            "text/plain": [
              "array([[9.99999762e-01, 2.76044631e-07, 4.34534678e-13, 5.38575409e-23],\n",
              "       [5.64442440e-17, 1.71484044e-06, 9.99998331e-01, 5.70520610e-11],\n",
              "       [5.11937174e-07, 9.99999523e-01, 5.63016727e-08, 2.00418604e-18],\n",
              "       ...,\n",
              "       [1.48363065e-17, 1.23744101e-07, 8.47812176e-01, 1.52187690e-01],\n",
              "       [1.00551953e-22, 4.97857235e-13, 4.99947475e-07, 9.99999523e-01],\n",
              "       [4.96956073e-02, 9.50304329e-01, 1.15368344e-07, 7.98314739e-18]],\n",
              "      dtype=float32)"
            ]
          },
          "metadata": {},
          "execution_count": 80
        }
      ]
    },
    {
      "cell_type": "code",
      "source": [
        "for p in pred:\n",
        "  i = p.argmax()\n",
        "  for j,k in enumerate(p):\n",
        "    if j==i:\n",
        "      p[j]=int(1) \n",
        "    else:\n",
        "      p[j]=int(0)\n",
        "pred = pred.astype(int)"
      ],
      "metadata": {
        "id": "cf2VIZve6IBg"
      },
      "execution_count": 81,
      "outputs": []
    },
    {
      "cell_type": "code",
      "source": [
        "from sklearn.metrics import confusion_matrix, classification_report, accuracy_score\n",
        "print(classification_report(pred,y_test))"
      ],
      "metadata": {
        "colab": {
          "base_uri": "https://localhost:8080/"
        },
        "id": "r5NSKG9_6jrw",
        "outputId": "7fbada3b-487d-4fa3-b041-ad279c790e81"
      },
      "execution_count": 82,
      "outputs": [
        {
          "output_type": "stream",
          "name": "stdout",
          "text": [
            "              precision    recall  f1-score   support\n",
            "\n",
            "           0       0.94      0.93      0.93       134\n",
            "           1       0.87      0.84      0.85       123\n",
            "           2       0.80      0.91      0.85       105\n",
            "           3       0.97      0.91      0.94       138\n",
            "\n",
            "   micro avg       0.90      0.90      0.90       500\n",
            "   macro avg       0.90      0.90      0.90       500\n",
            "weighted avg       0.90      0.90      0.90       500\n",
            " samples avg       0.90      0.90      0.90       500\n",
            "\n"
          ]
        }
      ]
    },
    {
      "cell_type": "code",
      "source": [
        "accuracy_score(pred,y_test)"
      ],
      "metadata": {
        "colab": {
          "base_uri": "https://localhost:8080/"
        },
        "id": "Fk5Fskvt7yfI",
        "outputId": "5261e72a-60d6-49e2-b68e-a80dca0d268a"
      },
      "execution_count": 83,
      "outputs": [
        {
          "output_type": "execute_result",
          "data": {
            "text/plain": [
              "0.898"
            ]
          },
          "metadata": {},
          "execution_count": 83
        }
      ]
    },
    {
      "cell_type": "code",
      "source": [
        "history_df = pd.DataFrame(final_model.history)"
      ],
      "metadata": {
        "id": "Hvd-lsoio2I6"
      },
      "execution_count": 62,
      "outputs": []
    },
    {
      "cell_type": "code",
      "source": [
        "plt.plot(history_df.loc[:, ['loss']], \"#4287f5\", label='Training loss')\n",
        "plt.plot(history_df.loc[:, ['val_loss']],\"#029610\", label='Validation loss')\n",
        "plt.title('Training and Validation loss')\n",
        "plt.xlabel('Epochs')\n",
        "plt.ylabel('Loss')\n",
        "plt.legend(loc=\"best\")\n",
        "\n",
        "plt.show()"
      ],
      "metadata": {
        "colab": {
          "base_uri": "https://localhost:8080/",
          "height": 472
        },
        "id": "-agBma_-pVc8",
        "outputId": "4dc39d60-39e2-4889-ea77-ce739dda8a34"
      },
      "execution_count": 95,
      "outputs": [
        {
          "output_type": "display_data",
          "data": {
            "text/plain": [
              "<Figure size 640x480 with 1 Axes>"
            ],
            "image/png": "[encoded data removed]"
          },
          "metadata": {}
        }
      ]
    },
    {
      "cell_type": "code",
      "source": [
        "plt.plot(history_df.loc[:, ['accuracy']], \"#4287f5\", label='Training accuracy')\n",
        "plt.plot(history_df.loc[:, ['val_accuracy']], \"#029610\", label='Validation accuracy')\n",
        "\n",
        "plt.title('Training and Validation accuracy')\n",
        "plt.xlabel('Epochs')\n",
        "plt.ylabel('Accuracy')\n",
        "plt.legend()\n",
        "plt.show()"
      ],
      "metadata": {
        "colab": {
          "base_uri": "https://localhost:8080/",
          "height": 472
        },
        "id": "MXmx97EepVZz",
        "outputId": "e749403b-7cba-4175-c6d9-dfb1e1edd629"
      },
      "execution_count": 94,
      "outputs": [
        {
          "output_type": "display_data",
          "data": {
            "text/plain": [
              "<Figure size 640x480 with 1 Axes>"
            ],
            "image/png": "[encoded data removed]"
          },
          "metadata": {}
        }
      ]
    },
    {
      "cell_type": "code",
      "source": [],
      "metadata": {
        "id": "cIA6_PSypVWM"
      },
      "execution_count": null,
      "outputs": []
    },
    {
      "cell_type": "markdown",
      "source": [
        "Dropout only before the last output layer increase the accuracy rather than implementing in each layer"
      ],
      "metadata": {
        "id": "Na98fx-D_w0n"
      }
    },
    {
      "cell_type": "code",
      "source": [
        "test_df.drop('id', axis=1, inplace = True)"
      ],
      "metadata": {
        "id": "jkhyZ_DH8bk4"
      },
      "execution_count": 84,
      "outputs": []
    },
    {
      "cell_type": "code",
      "source": [
        "X_test_values = SC.fit_transform(test_df.values)\n",
        "X_test_values"
      ],
      "metadata": {
        "colab": {
          "base_uri": "https://localhost:8080/"
        },
        "id": "fw760DRe8bhz",
        "outputId": "c2f11dff-0612-499d-c645-b0036658895b"
      },
      "execution_count": 85,
      "outputs": [
        {
          "output_type": "execute_result",
          "data": {
            "text/plain": [
              "array([[-0.47545131,  0.968496  ,  0.31260069, ..., -1.76021608,\n",
              "         1.        , -1.01409939],\n",
              "       [-0.94278218,  0.968496  , -1.25583195, ...,  0.56811207,\n",
              "        -1.        , -1.01409939],\n",
              "       [ 1.29207729,  0.968496  ,  1.51908734, ..., -1.76021608,\n",
              "         1.        ,  0.98609664],\n",
              "       ...,\n",
              "       [-0.1469316 , -1.03252879, -0.16999397, ...,  0.56811207,\n",
              "        -1.        , -1.01409939],\n",
              "       [ 0.65817305,  0.968496  , -1.25583195, ..., -1.76021608,\n",
              "         1.        , -1.01409939],\n",
              "       [ 0.04971753,  0.968496  , -1.25583195, ...,  0.56811207,\n",
              "        -1.        ,  0.98609664]])"
            ]
          },
          "metadata": {},
          "execution_count": 85
        }
      ]
    },
    {
      "cell_type": "code",
      "source": [
        "test_df.iloc[10:11].values"
      ],
      "metadata": {
        "colab": {
          "base_uri": "https://localhost:8080/"
        },
        "id": "YVtAYzcpjDIA",
        "outputId": "8a3c3344-ba18-4219-8bd7-cde44af0a688"
      },
      "execution_count": 86,
      "outputs": [
        {
          "output_type": "execute_result",
          "data": {
            "text/plain": [
              "array([[1.500e+03, 0.000e+00, 2.200e+00, 0.000e+00, 2.000e+00, 0.000e+00,\n",
              "        5.500e+01, 6.000e-01, 8.000e+01, 7.000e+00, 6.000e+00, 5.030e+02,\n",
              "        1.336e+03, 3.866e+03, 1.300e+01, 7.000e+00, 2.000e+01, 0.000e+00,\n",
              "        1.000e+00, 0.000e+00]])"
            ]
          },
          "metadata": {},
          "execution_count": 86
        }
      ]
    },
    {
      "cell_type": "code",
      "source": [
        "p =model.predict(SC.fit_transform(test_df[:10].values))\n",
        "p"
      ],
      "metadata": {
        "colab": {
          "base_uri": "https://localhost:8080/"
        },
        "id": "s6ZacSvM8U7f",
        "outputId": "3242bf40-50e4-4884-83e8-ac8e363c274b"
      },
      "execution_count": 87,
      "outputs": [
        {
          "output_type": "stream",
          "name": "stdout",
          "text": [
            "1/1 [==============================] - 0s 39ms/step\n"
          ]
        },
        {
          "output_type": "execute_result",
          "data": {
            "text/plain": [
              "array([[7.3469225e-13, 5.0768286e-02, 9.4923168e-01, 5.4306603e-12],\n",
              "       [7.7177589e-18, 1.8447166e-07, 9.9999976e-01, 1.1837561e-09],\n",
              "       [4.8919289e-17, 1.5808071e-06, 9.9999845e-01, 6.6866984e-11],\n",
              "       [3.0868110e-22, 1.5061995e-12, 1.7767201e-06, 9.9999821e-01],\n",
              "       [9.8838800e-01, 1.1611987e-02, 3.6673693e-09, 3.3534641e-19],\n",
              "       [4.8280233e-18, 7.2985593e-08, 9.9999869e-01, 1.1530248e-06],\n",
              "       [2.6480771e-22, 1.3409840e-12, 1.5939866e-06, 9.9999845e-01],\n",
              "       [9.9951565e-01, 4.8431533e-04, 2.3958452e-10, 2.3430939e-20],\n",
              "       [4.0320747e-17, 1.2393875e-06, 9.9999881e-01, 7.4147286e-11],\n",
              "       [1.0000000e+00, 2.1556881e-08, 5.3474054e-14, 7.4598269e-24]],\n",
              "      dtype=float32)"
            ]
          },
          "metadata": {},
          "execution_count": 87
        }
      ]
    },
    {
      "cell_type": "code",
      "source": [
        "for i in p:\n",
        "  print(i.argmax())"
      ],
      "metadata": {
        "colab": {
          "base_uri": "https://localhost:8080/"
        },
        "id": "LVqpd7jzEZiP",
        "outputId": "843eeebf-6eaf-427a-e2ee-b43db8c40d19"
      },
      "execution_count": 88,
      "outputs": [
        {
          "output_type": "stream",
          "name": "stdout",
          "text": [
            "2\n",
            "2\n",
            "2\n",
            "3\n",
            "0\n",
            "2\n",
            "3\n",
            "0\n",
            "2\n",
            "0\n"
          ]
        }
      ]
    },
    {
      "cell_type": "code",
      "source": [],
      "metadata": {
        "id": "FZGT6731jb06"
      },
      "execution_count": null,
      "outputs": []
    }
  ],
  "metadata": {
    "accelerator": "GPU",
    "colab": {
      "provenance": [],
      "mount_file_id": "1SPWN9w2-iH4regvgvWiz6kaD_iXpNtZF",
      "authorship_tag": "ABX9TyMaDs9QC/jCeyyO3hWt2xxF",
      "include_colab_link": true
    },
    "gpuClass": "standard",
    "kernelspec": {
      "display_name": "Python 3",
      "name": "python3"
    },
    "language_info": {
      "name": "python"
    }
  },
  "nbformat": 4,
  "nbformat_minor": 0
}